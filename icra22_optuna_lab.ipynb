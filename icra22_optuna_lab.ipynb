{
 "cells": [
  {
   "cell_type": "markdown",
   "id": "db763322-ad95-4e44-9d61-eab4ef822e83",
   "metadata": {
    "collapsed": false,
    "id": "hyyN-2qyK_T2"
   },
   "source": [
    "# Hyperparameter tuning with Optuna\n",
    "\n",
    "Github repo: https://github.com/araffin/tools-for-robotic-rl-icra2022\n",
    "\n",
    "Optuna: https://github.com/optuna/optuna\n",
    "\n",
    "Stable-Baselines3: https://github.com/DLR-RM/stable-baselines3\n",
    "\n",
    "Documentation: https://stable-baselines3.readthedocs.io/en/master/\n",
    "\n",
    "SB3 Contrib: https://github.com/Stable-Baselines-Team/stable-baselines3-contrib\n",
    "\n",
    "RL Baselines3 zoo: https://github.com/DLR-RM/rl-baselines3-zoo\n",
    "\n",
    "[RL Baselines3 Zoo](https://github.com/DLR-RM/rl-baselines3-zoo) is a collection of pre-trained Reinforcement Learning agents using Stable-Baselines3.\n",
    "\n",
    "It also provides basic scripts for training, evaluating agents, tuning hyperparameters and recording videos.\n",
    "\n",
    "\n",
    "## Introduction\n",
    "\n",
    "In this notebook, you will learn the importance of tuning\n",
    "hyperparameters. You will first try to optimize the parameters\n",
    "manually and then we will see how to automate the search using Optuna.\n",
    "\n",
    "\n",
    "## Install Dependencies and Stable Baselines3 Using Pip\n",
    "\n",
    "List of full dependencies can be found in the [README](https://github.com/DLR-RM/stable-baselines3).\n",
    "\n",
    "\n",
    "```\n",
    "pip install stable-baselines3[extra]\n",
    "```"
   ]
  },
  {
   "cell_type": "code",
   "execution_count": 1,
   "id": "6f270e9e-86aa-4eba-a178-a22385b516d4",
   "metadata": {
    "collapsed": false,
    "id": "hYdv2ygjLaFL",
    "vscode": {
     "languageId": "python"
    }
   },
   "outputs": [
    {
     "name": "stdout",
     "output_type": "stream",
     "text": [
      "Requirement already satisfied: stable-baselines3 in /home/marc/mambaforge/envs/huggingface-rl/lib/python3.11/site-packages (2.2.0)\r\n"
     ]
    },
    {
     "name": "stdout",
     "output_type": "stream",
     "text": [
      "Requirement already satisfied: gymnasium<0.30,>=0.28.1 in /home/marc/mambaforge/envs/huggingface-rl/lib/python3.11/site-packages (from stable-baselines3) (0.28.1)\r\n",
      "Requirement already satisfied: numpy>=1.20 in /home/marc/mambaforge/envs/huggingface-rl/lib/python3.11/site-packages (from stable-baselines3) (1.26.0)\r\n",
      "Requirement already satisfied: torch>=1.13 in /home/marc/.local/lib/python3.11/site-packages (from stable-baselines3) (2.1.0)\r\n",
      "Requirement already satisfied: cloudpickle in /home/marc/.local/lib/python3.11/site-packages (from stable-baselines3) (3.0.0)\r\n",
      "Requirement already satisfied: pandas in /home/marc/.local/lib/python3.11/site-packages (from stable-baselines3) (2.1.3)\r\n",
      "Requirement already satisfied: matplotlib in /home/marc/mambaforge/envs/huggingface-rl/lib/python3.11/site-packages (from stable-baselines3) (3.8.1)\r\n",
      "Requirement already satisfied: jax-jumpy>=1.0.0 in /home/marc/.local/lib/python3.11/site-packages (from gymnasium<0.30,>=0.28.1->stable-baselines3) (1.0.0)\r\n",
      "Requirement already satisfied: typing-extensions>=4.3.0 in /home/marc/mambaforge/envs/huggingface-rl/lib/python3.11/site-packages (from gymnasium<0.30,>=0.28.1->stable-baselines3) (4.8.0)\r\n",
      "Requirement already satisfied: farama-notifications>=0.0.1 in /home/marc/.local/lib/python3.11/site-packages (from gymnasium<0.30,>=0.28.1->stable-baselines3) (0.0.4)\r\n"
     ]
    },
    {
     "name": "stdout",
     "output_type": "stream",
     "text": [
      "Requirement already satisfied: filelock in /home/marc/.local/lib/python3.11/site-packages (from torch>=1.13->stable-baselines3) (3.13.0)\r\n",
      "Requirement already satisfied: sympy in /home/marc/.local/lib/python3.11/site-packages (from torch>=1.13->stable-baselines3) (1.12)\r\n",
      "Requirement already satisfied: networkx in /home/marc/.local/lib/python3.11/site-packages (from torch>=1.13->stable-baselines3) (3.2.1)\r\n",
      "Requirement already satisfied: jinja2 in /home/marc/mambaforge/envs/huggingface-rl/lib/python3.11/site-packages (from torch>=1.13->stable-baselines3) (3.1.2)\r\n",
      "Requirement already satisfied: fsspec in /home/marc/.local/lib/python3.11/site-packages (from torch>=1.13->stable-baselines3) (2023.10.0)\r\n",
      "Requirement already satisfied: nvidia-cuda-nvrtc-cu12==12.1.105 in /home/marc/.local/lib/python3.11/site-packages (from torch>=1.13->stable-baselines3) (12.1.105)\r\n",
      "Requirement already satisfied: nvidia-cuda-runtime-cu12==12.1.105 in /home/marc/.local/lib/python3.11/site-packages (from torch>=1.13->stable-baselines3) (12.1.105)\r\n",
      "Requirement already satisfied: nvidia-cuda-cupti-cu12==12.1.105 in /home/marc/.local/lib/python3.11/site-packages (from torch>=1.13->stable-baselines3) (12.1.105)\r\n",
      "Requirement already satisfied: nvidia-cudnn-cu12==8.9.2.26 in /home/marc/.local/lib/python3.11/site-packages (from torch>=1.13->stable-baselines3) (8.9.2.26)\r\n",
      "Requirement already satisfied: nvidia-cublas-cu12==12.1.3.1 in /home/marc/.local/lib/python3.11/site-packages (from torch>=1.13->stable-baselines3) (12.1.3.1)\r\n",
      "Requirement already satisfied: nvidia-cufft-cu12==11.0.2.54 in /home/marc/.local/lib/python3.11/site-packages (from torch>=1.13->stable-baselines3) (11.0.2.54)\r\n",
      "Requirement already satisfied: nvidia-curand-cu12==10.3.2.106 in /home/marc/.local/lib/python3.11/site-packages (from torch>=1.13->stable-baselines3) (10.3.2.106)\r\n",
      "Requirement already satisfied: nvidia-cusolver-cu12==11.4.5.107 in /home/marc/.local/lib/python3.11/site-packages (from torch>=1.13->stable-baselines3) (11.4.5.107)\r\n",
      "Requirement already satisfied: nvidia-cusparse-cu12==12.1.0.106 in /home/marc/.local/lib/python3.11/site-packages (from torch>=1.13->stable-baselines3) (12.1.0.106)\r\n",
      "Requirement already satisfied: nvidia-nccl-cu12==2.18.1 in /home/marc/.local/lib/python3.11/site-packages (from torch>=1.13->stable-baselines3) (2.18.1)\r\n",
      "Requirement already satisfied: nvidia-nvtx-cu12==12.1.105 in /home/marc/.local/lib/python3.11/site-packages (from torch>=1.13->stable-baselines3) (12.1.105)\r\n",
      "Requirement already satisfied: triton==2.1.0 in /home/marc/.local/lib/python3.11/site-packages (from torch>=1.13->stable-baselines3) (2.1.0)\r\n",
      "Requirement already satisfied: nvidia-nvjitlink-cu12 in /home/marc/.local/lib/python3.11/site-packages (from nvidia-cusolver-cu12==11.4.5.107->torch>=1.13->stable-baselines3) (12.3.52)\r\n",
      "Requirement already satisfied: contourpy>=1.0.1 in /home/marc/mambaforge/envs/huggingface-rl/lib/python3.11/site-packages (from matplotlib->stable-baselines3) (1.2.0)\r\n",
      "Requirement already satisfied: cycler>=0.10 in /home/marc/mambaforge/envs/huggingface-rl/lib/python3.11/site-packages (from matplotlib->stable-baselines3) (0.12.1)\r\n",
      "Requirement already satisfied: fonttools>=4.22.0 in /home/marc/mambaforge/envs/huggingface-rl/lib/python3.11/site-packages (from matplotlib->stable-baselines3) (4.44.3)\r\n"
     ]
    },
    {
     "name": "stdout",
     "output_type": "stream",
     "text": [
      "Requirement already satisfied: kiwisolver>=1.3.1 in /home/marc/mambaforge/envs/huggingface-rl/lib/python3.11/site-packages (from matplotlib->stable-baselines3) (1.4.5)\r\n",
      "Requirement already satisfied: packaging>=20.0 in /home/marc/mambaforge/envs/huggingface-rl/lib/python3.11/site-packages (from matplotlib->stable-baselines3) (23.2)\r\n",
      "Requirement already satisfied: pillow>=8 in /home/marc/mambaforge/envs/huggingface-rl/lib/python3.11/site-packages (from matplotlib->stable-baselines3) (10.1.0)\r\n",
      "Requirement already satisfied: pyparsing>=2.3.1 in /home/marc/mambaforge/envs/huggingface-rl/lib/python3.11/site-packages (from matplotlib->stable-baselines3) (3.1.1)\r\n",
      "Requirement already satisfied: python-dateutil>=2.7 in /home/marc/mambaforge/envs/huggingface-rl/lib/python3.11/site-packages (from matplotlib->stable-baselines3) (2.8.2)\r\n",
      "Requirement already satisfied: pytz>=2020.1 in /home/marc/mambaforge/envs/huggingface-rl/lib/python3.11/site-packages (from pandas->stable-baselines3) (2023.3.post1)\r\n",
      "Requirement already satisfied: tzdata>=2022.1 in /home/marc/.local/lib/python3.11/site-packages (from pandas->stable-baselines3) (2023.3)\r\n"
     ]
    },
    {
     "name": "stdout",
     "output_type": "stream",
     "text": [
      "Requirement already satisfied: six>=1.5 in /home/marc/mambaforge/envs/huggingface-rl/lib/python3.11/site-packages (from python-dateutil>=2.7->matplotlib->stable-baselines3) (1.16.0)\r\n",
      "Requirement already satisfied: MarkupSafe>=2.0 in /home/marc/mambaforge/envs/huggingface-rl/lib/python3.11/site-packages (from jinja2->torch>=1.13->stable-baselines3) (2.1.3)\r\n"
     ]
    },
    {
     "name": "stdout",
     "output_type": "stream",
     "text": [
      "Requirement already satisfied: mpmath>=0.19 in /home/marc/.local/lib/python3.11/site-packages (from sympy->torch>=1.13->stable-baselines3) (1.3.0)\r\n"
     ]
    }
   ],
   "source": [
    "!pip install stable-baselines3"
   ]
  },
  {
   "cell_type": "code",
   "execution_count": 2,
   "id": "4d5042f5-46e4-44e0-a89c-400a65f872a7",
   "metadata": {
    "collapsed": false,
    "id": "oexj67yWN5_k",
    "vscode": {
     "languageId": "python"
    }
   },
   "outputs": [
    {
     "name": "stdout",
     "output_type": "stream",
     "text": [
      "Requirement already satisfied: sb3-contrib in /home/marc/mambaforge/envs/huggingface-rl/lib/python3.11/site-packages (2.2.1)\r\n"
     ]
    },
    {
     "name": "stdout",
     "output_type": "stream",
     "text": [
      "Collecting stable-baselines3<3.0,>=2.2.1 (from sb3-contrib)\r\n",
      "  Using cached stable_baselines3-2.2.1-py3-none-any.whl.metadata (5.0 kB)\r\n"
     ]
    },
    {
     "name": "stdout",
     "output_type": "stream",
     "text": [
      "Requirement already satisfied: gymnasium<0.30,>=0.28.1 in /home/marc/mambaforge/envs/huggingface-rl/lib/python3.11/site-packages (from stable-baselines3<3.0,>=2.2.1->sb3-contrib) (0.28.1)\r\n",
      "Requirement already satisfied: numpy>=1.20 in /home/marc/mambaforge/envs/huggingface-rl/lib/python3.11/site-packages (from stable-baselines3<3.0,>=2.2.1->sb3-contrib) (1.26.0)\r\n",
      "Requirement already satisfied: torch>=1.13 in /home/marc/.local/lib/python3.11/site-packages (from stable-baselines3<3.0,>=2.2.1->sb3-contrib) (2.1.0)\r\n",
      "Requirement already satisfied: cloudpickle in /home/marc/.local/lib/python3.11/site-packages (from stable-baselines3<3.0,>=2.2.1->sb3-contrib) (3.0.0)\r\n",
      "Requirement already satisfied: pandas in /home/marc/.local/lib/python3.11/site-packages (from stable-baselines3<3.0,>=2.2.1->sb3-contrib) (2.1.3)\r\n",
      "Requirement already satisfied: matplotlib in /home/marc/mambaforge/envs/huggingface-rl/lib/python3.11/site-packages (from stable-baselines3<3.0,>=2.2.1->sb3-contrib) (3.8.1)\r\n",
      "Requirement already satisfied: jax-jumpy>=1.0.0 in /home/marc/.local/lib/python3.11/site-packages (from gymnasium<0.30,>=0.28.1->stable-baselines3<3.0,>=2.2.1->sb3-contrib) (1.0.0)\r\n",
      "Requirement already satisfied: typing-extensions>=4.3.0 in /home/marc/mambaforge/envs/huggingface-rl/lib/python3.11/site-packages (from gymnasium<0.30,>=0.28.1->stable-baselines3<3.0,>=2.2.1->sb3-contrib) (4.8.0)\r\n",
      "Requirement already satisfied: farama-notifications>=0.0.1 in /home/marc/.local/lib/python3.11/site-packages (from gymnasium<0.30,>=0.28.1->stable-baselines3<3.0,>=2.2.1->sb3-contrib) (0.0.4)\r\n"
     ]
    },
    {
     "name": "stdout",
     "output_type": "stream",
     "text": [
      "Requirement already satisfied: filelock in /home/marc/.local/lib/python3.11/site-packages (from torch>=1.13->stable-baselines3<3.0,>=2.2.1->sb3-contrib) (3.13.0)\r\n",
      "Requirement already satisfied: sympy in /home/marc/.local/lib/python3.11/site-packages (from torch>=1.13->stable-baselines3<3.0,>=2.2.1->sb3-contrib) (1.12)\r\n",
      "Requirement already satisfied: networkx in /home/marc/.local/lib/python3.11/site-packages (from torch>=1.13->stable-baselines3<3.0,>=2.2.1->sb3-contrib) (3.2.1)\r\n",
      "Requirement already satisfied: jinja2 in /home/marc/mambaforge/envs/huggingface-rl/lib/python3.11/site-packages (from torch>=1.13->stable-baselines3<3.0,>=2.2.1->sb3-contrib) (3.1.2)\r\n",
      "Requirement already satisfied: fsspec in /home/marc/.local/lib/python3.11/site-packages (from torch>=1.13->stable-baselines3<3.0,>=2.2.1->sb3-contrib) (2023.10.0)\r\n",
      "Requirement already satisfied: nvidia-cuda-nvrtc-cu12==12.1.105 in /home/marc/.local/lib/python3.11/site-packages (from torch>=1.13->stable-baselines3<3.0,>=2.2.1->sb3-contrib) (12.1.105)\r\n",
      "Requirement already satisfied: nvidia-cuda-runtime-cu12==12.1.105 in /home/marc/.local/lib/python3.11/site-packages (from torch>=1.13->stable-baselines3<3.0,>=2.2.1->sb3-contrib) (12.1.105)\r\n",
      "Requirement already satisfied: nvidia-cuda-cupti-cu12==12.1.105 in /home/marc/.local/lib/python3.11/site-packages (from torch>=1.13->stable-baselines3<3.0,>=2.2.1->sb3-contrib) (12.1.105)\r\n",
      "Requirement already satisfied: nvidia-cudnn-cu12==8.9.2.26 in /home/marc/.local/lib/python3.11/site-packages (from torch>=1.13->stable-baselines3<3.0,>=2.2.1->sb3-contrib) (8.9.2.26)\r\n",
      "Requirement already satisfied: nvidia-cublas-cu12==12.1.3.1 in /home/marc/.local/lib/python3.11/site-packages (from torch>=1.13->stable-baselines3<3.0,>=2.2.1->sb3-contrib) (12.1.3.1)\r\n",
      "Requirement already satisfied: nvidia-cufft-cu12==11.0.2.54 in /home/marc/.local/lib/python3.11/site-packages (from torch>=1.13->stable-baselines3<3.0,>=2.2.1->sb3-contrib) (11.0.2.54)\r\n",
      "Requirement already satisfied: nvidia-curand-cu12==10.3.2.106 in /home/marc/.local/lib/python3.11/site-packages (from torch>=1.13->stable-baselines3<3.0,>=2.2.1->sb3-contrib) (10.3.2.106)\r\n",
      "Requirement already satisfied: nvidia-cusolver-cu12==11.4.5.107 in /home/marc/.local/lib/python3.11/site-packages (from torch>=1.13->stable-baselines3<3.0,>=2.2.1->sb3-contrib) (11.4.5.107)\r\n",
      "Requirement already satisfied: nvidia-cusparse-cu12==12.1.0.106 in /home/marc/.local/lib/python3.11/site-packages (from torch>=1.13->stable-baselines3<3.0,>=2.2.1->sb3-contrib) (12.1.0.106)\r\n",
      "Requirement already satisfied: nvidia-nccl-cu12==2.18.1 in /home/marc/.local/lib/python3.11/site-packages (from torch>=1.13->stable-baselines3<3.0,>=2.2.1->sb3-contrib) (2.18.1)\r\n",
      "Requirement already satisfied: nvidia-nvtx-cu12==12.1.105 in /home/marc/.local/lib/python3.11/site-packages (from torch>=1.13->stable-baselines3<3.0,>=2.2.1->sb3-contrib) (12.1.105)\r\n",
      "Requirement already satisfied: triton==2.1.0 in /home/marc/.local/lib/python3.11/site-packages (from torch>=1.13->stable-baselines3<3.0,>=2.2.1->sb3-contrib) (2.1.0)\r\n",
      "Requirement already satisfied: nvidia-nvjitlink-cu12 in /home/marc/.local/lib/python3.11/site-packages (from nvidia-cusolver-cu12==11.4.5.107->torch>=1.13->stable-baselines3<3.0,>=2.2.1->sb3-contrib) (12.3.52)\r\n"
     ]
    },
    {
     "name": "stdout",
     "output_type": "stream",
     "text": [
      "Requirement already satisfied: contourpy>=1.0.1 in /home/marc/mambaforge/envs/huggingface-rl/lib/python3.11/site-packages (from matplotlib->stable-baselines3<3.0,>=2.2.1->sb3-contrib) (1.2.0)\r\n",
      "Requirement already satisfied: cycler>=0.10 in /home/marc/mambaforge/envs/huggingface-rl/lib/python3.11/site-packages (from matplotlib->stable-baselines3<3.0,>=2.2.1->sb3-contrib) (0.12.1)\r\n",
      "Requirement already satisfied: fonttools>=4.22.0 in /home/marc/mambaforge/envs/huggingface-rl/lib/python3.11/site-packages (from matplotlib->stable-baselines3<3.0,>=2.2.1->sb3-contrib) (4.44.3)\r\n",
      "Requirement already satisfied: kiwisolver>=1.3.1 in /home/marc/mambaforge/envs/huggingface-rl/lib/python3.11/site-packages (from matplotlib->stable-baselines3<3.0,>=2.2.1->sb3-contrib) (1.4.5)\r\n",
      "Requirement already satisfied: packaging>=20.0 in /home/marc/mambaforge/envs/huggingface-rl/lib/python3.11/site-packages (from matplotlib->stable-baselines3<3.0,>=2.2.1->sb3-contrib) (23.2)\r\n",
      "Requirement already satisfied: pillow>=8 in /home/marc/mambaforge/envs/huggingface-rl/lib/python3.11/site-packages (from matplotlib->stable-baselines3<3.0,>=2.2.1->sb3-contrib) (10.1.0)\r\n",
      "Requirement already satisfied: pyparsing>=2.3.1 in /home/marc/mambaforge/envs/huggingface-rl/lib/python3.11/site-packages (from matplotlib->stable-baselines3<3.0,>=2.2.1->sb3-contrib) (3.1.1)\r\n",
      "Requirement already satisfied: python-dateutil>=2.7 in /home/marc/mambaforge/envs/huggingface-rl/lib/python3.11/site-packages (from matplotlib->stable-baselines3<3.0,>=2.2.1->sb3-contrib) (2.8.2)\r\n"
     ]
    },
    {
     "name": "stdout",
     "output_type": "stream",
     "text": [
      "Requirement already satisfied: pytz>=2020.1 in /home/marc/mambaforge/envs/huggingface-rl/lib/python3.11/site-packages (from pandas->stable-baselines3<3.0,>=2.2.1->sb3-contrib) (2023.3.post1)\r\n",
      "Requirement already satisfied: tzdata>=2022.1 in /home/marc/.local/lib/python3.11/site-packages (from pandas->stable-baselines3<3.0,>=2.2.1->sb3-contrib) (2023.3)\r\n"
     ]
    },
    {
     "name": "stdout",
     "output_type": "stream",
     "text": [
      "Requirement already satisfied: six>=1.5 in /home/marc/mambaforge/envs/huggingface-rl/lib/python3.11/site-packages (from python-dateutil>=2.7->matplotlib->stable-baselines3<3.0,>=2.2.1->sb3-contrib) (1.16.0)\r\n"
     ]
    },
    {
     "name": "stdout",
     "output_type": "stream",
     "text": [
      "Requirement already satisfied: MarkupSafe>=2.0 in /home/marc/mambaforge/envs/huggingface-rl/lib/python3.11/site-packages (from jinja2->torch>=1.13->stable-baselines3<3.0,>=2.2.1->sb3-contrib) (2.1.3)\r\n",
      "Requirement already satisfied: mpmath>=0.19 in /home/marc/.local/lib/python3.11/site-packages (from sympy->torch>=1.13->stable-baselines3<3.0,>=2.2.1->sb3-contrib) (1.3.0)\r\n",
      "Using cached stable_baselines3-2.2.1-py3-none-any.whl (181 kB)\r\n"
     ]
    },
    {
     "name": "stdout",
     "output_type": "stream",
     "text": [
      "Installing collected packages: stable-baselines3\r\n",
      "  Attempting uninstall: stable-baselines3\r\n",
      "    Found existing installation: stable-baselines3 2.2.0\r\n",
      "    Uninstalling stable-baselines3-2.2.0:\r\n",
      "      Successfully uninstalled stable-baselines3-2.2.0\r\n"
     ]
    },
    {
     "name": "stdout",
     "output_type": "stream",
     "text": [
      "\u001b[31mERROR: pip's dependency resolver does not currently take into account all the packages that are installed. This behaviour is the source of the following dependency conflicts.\r\n",
      "rl-zoo3 2.2.1 requires gymnasium~=0.29.1, but you have gymnasium 0.28.1 which is incompatible.\u001b[0m\u001b[31m\r\n",
      "\u001b[0mSuccessfully installed stable-baselines3-2.2.1\r\n"
     ]
    }
   ],
   "source": [
    "# Optional: install SB3 contrib to have access to additional algorithms\n",
    "!pip install sb3-contrib"
   ]
  },
  {
   "cell_type": "code",
   "execution_count": 3,
   "id": "6a1835c2-78cc-47b5-bfd2-5bff814d9964",
   "metadata": {
    "collapsed": false,
    "id": "NNah91r9x9EL",
    "vscode": {
     "languageId": "python"
    }
   },
   "outputs": [
    {
     "name": "stdout",
     "output_type": "stream",
     "text": [
      "Requirement already satisfied: optuna in /home/marc/mambaforge/envs/huggingface-rl/lib/python3.11/site-packages (3.4.0)\r\n",
      "Requirement already satisfied: alembic>=1.5.0 in /home/marc/mambaforge/envs/huggingface-rl/lib/python3.11/site-packages (from optuna) (1.12.1)\r\n",
      "Requirement already satisfied: colorlog in /home/marc/mambaforge/envs/huggingface-rl/lib/python3.11/site-packages (from optuna) (6.7.0)\r\n",
      "Requirement already satisfied: numpy in /home/marc/mambaforge/envs/huggingface-rl/lib/python3.11/site-packages (from optuna) (1.26.0)\r\n",
      "Requirement already satisfied: packaging>=20.0 in /home/marc/mambaforge/envs/huggingface-rl/lib/python3.11/site-packages (from optuna) (23.2)\r\n",
      "Requirement already satisfied: sqlalchemy>=1.3.0 in /home/marc/mambaforge/envs/huggingface-rl/lib/python3.11/site-packages (from optuna) (2.0.23)\r\n"
     ]
    },
    {
     "name": "stdout",
     "output_type": "stream",
     "text": [
      "Requirement already satisfied: tqdm in /home/marc/mambaforge/envs/huggingface-rl/lib/python3.11/site-packages (from optuna) (4.66.1)\r\n",
      "Requirement already satisfied: PyYAML in /home/marc/mambaforge/envs/huggingface-rl/lib/python3.11/site-packages (from optuna) (6.0.1)\r\n",
      "Requirement already satisfied: Mako in /home/marc/mambaforge/envs/huggingface-rl/lib/python3.11/site-packages (from alembic>=1.5.0->optuna) (1.3.0)\r\n",
      "Requirement already satisfied: typing-extensions>=4 in /home/marc/mambaforge/envs/huggingface-rl/lib/python3.11/site-packages (from alembic>=1.5.0->optuna) (4.8.0)\r\n",
      "Requirement already satisfied: greenlet!=0.4.17 in /home/marc/.local/lib/python3.11/site-packages (from sqlalchemy>=1.3.0->optuna) (2.0.2)\r\n",
      "Requirement already satisfied: MarkupSafe>=0.9.2 in /home/marc/mambaforge/envs/huggingface-rl/lib/python3.11/site-packages (from Mako->alembic>=1.5.0->optuna) (2.1.3)\r\n"
     ]
    }
   ],
   "source": [
    "# Optuna will be used in the last part when doing hyperparameter tuning\n",
    "!pip install optuna"
   ]
  },
  {
   "cell_type": "markdown",
   "id": "ca7c80a2-8d12-4828-aec3-ffe592a5550d",
   "metadata": {
    "collapsed": false,
    "id": "FtY8FhliLsGm"
   },
   "source": [
    "## Imports"
   ]
  },
  {
   "cell_type": "code",
   "execution_count": 4,
   "id": "6e551e0b-c184-4697-898a-1a6e46f5820d",
   "metadata": {
    "collapsed": false,
    "id": "BIedd7Pz9sOs",
    "vscode": {
     "languageId": "python"
    }
   },
   "outputs": [],
   "source": [
    "import gymnasium as gym\n",
    "import numpy as np"
   ]
  },
  {
   "cell_type": "markdown",
   "id": "aed57d71-fd9b-439b-b51f-e217be710c9d",
   "metadata": {
    "collapsed": false,
    "id": "Ae32CtgzTG3R"
   },
   "source": [
    "The first thing you need to import is the RL model, check the documentation to know what you can use on which problem"
   ]
  },
  {
   "cell_type": "code",
   "execution_count": 5,
   "id": "f8c46ce8-4054-42a6-9723-d9246d12a2c6",
   "metadata": {
    "collapsed": false,
    "id": "R7tKaBFrTR0a",
    "vscode": {
     "languageId": "python"
    }
   },
   "outputs": [],
   "source": [
    "from stable_baselines3 import PPO, A2C, SAC, TD3, DQN"
   ]
  },
  {
   "cell_type": "code",
   "execution_count": 6,
   "id": "f61b529b-3d1a-4d26-98cd-fe1aa811c37a",
   "metadata": {
    "collapsed": false,
    "id": "EcsXmYRMON9W",
    "vscode": {
     "languageId": "python"
    }
   },
   "outputs": [],
   "source": [
    "# Algorithms from the contrib repo\n",
    "# https://github.com/Stable-Baselines-Team/stable-baselines3-contrib\n",
    "from sb3_contrib import QRDQN, TQC"
   ]
  },
  {
   "cell_type": "code",
   "execution_count": 7,
   "id": "2288f5a4-6b59-4983-a708-0b38891527bb",
   "metadata": {
    "collapsed": false,
    "id": "kLwjcfvuqtGE",
    "vscode": {
     "languageId": "python"
    }
   },
   "outputs": [],
   "source": [
    "from stable_baselines3.common.env_util import make_vec_env\n",
    "from stable_baselines3.common.evaluation import evaluate_policy"
   ]
  },
  {
   "cell_type": "markdown",
   "id": "7999db7f-3984-4472-be60-a69aa24261c1",
   "metadata": {
    "collapsed": false,
    "id": "-khNkrgcI6Z1"
   },
   "source": [
    "# Part I: The Importance Of Tuned Hyperparameters\n",
    "\n"
   ]
  },
  {
   "cell_type": "markdown",
   "id": "d0d01fbf-7d71-4687-85f8-edfe6bd9571f",
   "metadata": {
    "collapsed": false,
    "id": "PytOtL9GdmrE"
   },
   "source": [
    "When compared with Supervised Learning, Deep Reinforcement Learning is\n",
    "far more sensitive to the choice of hyper-parameters such as learning\n",
    "rate, number of neurons, number of layers, optimizer ... etc.\n",
    "\n",
    "Poor choice of hyper-parameters can lead to poor/unstable convergence. This challenge is compounded by the variability in performance across random seeds (used to initialize the network weights and the environment)."
   ]
  },
  {
   "cell_type": "markdown",
   "id": "da22a13f-a06b-4eb6-b374-7605fcb43c07",
   "metadata": {
    "collapsed": false,
    "id": "Hk8HSIC3qUjc"
   },
   "source": [
    "In addition to hyperparameters, selecting the appropriate algorithm is\n",
    "also an important choice. We will demonstrate it on the simple\n",
    "Pendulum task.\n",
    "\n",
    "See [gym doc](https://gym.openai.com/envs/Pendulum-v0/): \"The inverted\n",
    "pendulum swingup problem is a classic problem in the control\n",
    "literature. In this version of the problem, the pendulum starts in a\n",
    "random position, and the goal is to swing it up so it stays upright.\"\n",
    "\n",
    "\n",
    "Let's try first with PPO and a small budget of 4000 steps (20 episodes):"
   ]
  },
  {
   "cell_type": "code",
   "execution_count": 8,
   "id": "713104c9-db79-43a4-9694-ee88ef267711",
   "metadata": {
    "collapsed": false,
    "id": "4ToIvihGq2N0",
    "vscode": {
     "languageId": "python"
    }
   },
   "outputs": [],
   "source": [
    "env_id = \"Pendulum-v1\"\n",
    "# Env used only for evaluation\n",
    "eval_envs = make_vec_env(env_id, n_envs=10)\n",
    "# 4000 training timesteps\n",
    "budget_pendulum = 4000"
   ]
  },
  {
   "cell_type": "markdown",
   "id": "2f57313e-dfdf-457a-bfd5-ce59a12c0209",
   "metadata": {
    "collapsed": false,
    "id": "EWT2r6QE4yew"
   },
   "source": [
    "### PPO"
   ]
  },
  {
   "cell_type": "code",
   "execution_count": 9,
   "id": "fe587878-861c-4b7d-8643-a2ffbcfe67d4",
   "metadata": {
    "collapsed": false,
    "id": "KCHk_-_4ndux",
    "vscode": {
     "languageId": "python"
    }
   },
   "outputs": [],
   "source": [
    "ppo_model = PPO(\"MlpPolicy\", env_id, seed=0, verbose=0).learn(budget_pendulum)"
   ]
  },
  {
   "cell_type": "code",
   "execution_count": 10,
   "id": "5d5ac3a9-6a9a-468d-94f6-daa48725d0c6",
   "metadata": {
    "colab": {
     "base_uri": "https://localhost:8080/"
    },
    "collapsed": false,
    "id": "TP9C9AqLndxz",
    "outputId": "dd8e423c-dd4d-43cf-eac5-639e6748f02c",
    "vscode": {
     "languageId": "python"
    }
   },
   "outputs": [
    {
     "name": "stdout",
     "output_type": "stream",
     "text": [
      "PPO Mean episode reward: -1144.99 +/- 250.23\n"
     ]
    }
   ],
   "source": [
    "mean_reward, std_reward = evaluate_policy(ppo_model, eval_envs, n_eval_episodes=100, deterministic=True)\n",
    "\n",
    "print(f\"PPO Mean episode reward: {mean_reward:.2f} +/- {std_reward:.2f}\")"
   ]
  },
  {
   "cell_type": "markdown",
   "id": "200fce42-6b5e-4cc2-9bf7-b478a713cef6",
   "metadata": {
    "collapsed": false,
    "id": "uHmJaJLl5ds4"
   },
   "source": [
    "### A2C"
   ]
  },
  {
   "cell_type": "code",
   "execution_count": 12,
   "id": "647a4ec5-1891-4a1b-9aec-44c5baf94689",
   "metadata": {
    "collapsed": false,
    "id": "BLL_pws25jh0",
    "vscode": {
     "languageId": "python"
    }
   },
   "outputs": [],
   "source": [
    "# Define and train a A2C model\n",
    "a2c_model = A2C(\"MlpPolicy\", env_id, verbose=0).learn(budget_pendulum)\n"
   ]
  },
  {
   "cell_type": "code",
   "execution_count": 13,
   "id": "89b45b5e-a5e6-451c-9e69-e318bcdb60ec",
   "metadata": {
    "collapsed": false,
    "id": "ic83jZwB5nVk",
    "vscode": {
     "languageId": "python"
    }
   },
   "outputs": [
    {
     "name": "stdout",
     "output_type": "stream",
     "text": [
      "A2C Mean episode reward: -1241.39 +/- 112.48\n"
     ]
    }
   ],
   "source": [
    "# Evaluate the train A2C model\n",
    "mean_reward, std_reward = evaluate_policy(a2c_model, eval_envs, n_eval_episodes=100, deterministic=True)\n",
    "\n",
    "print(f\"A2C Mean episode reward: {mean_reward:.2f} +/- {std_reward:.2f}\")"
   ]
  },
  {
   "cell_type": "markdown",
   "id": "9ca1b47e-3e54-47da-8222-a8feed73da50",
   "metadata": {
    "collapsed": false,
    "id": "0_z1zFx2rVpG"
   },
   "source": [
    "Both are far from solving the env (mean reward around -200).\n",
    "Now, let's try with an off-policy algorithm:"
   ]
  },
  {
   "cell_type": "markdown",
   "id": "1715dc7c-1655-4768-814f-7b2554ad5056",
   "metadata": {
    "collapsed": false,
    "id": "3wYaVZJU5VL5"
   },
   "source": [
    "### Training longer PPO ?\n",
    "\n",
    "Maybe training longer would help?\n",
    "\n",
    "You can try with 10x the budget, but in the case of A2C/PPO, training longer won't help much, finding better hyperparameters is needed instead."
   ]
  },
  {
   "cell_type": "code",
   "execution_count": 14,
   "id": "7f053afe-ef5a-4945-9290-5cb96c15c111",
   "metadata": {
    "collapsed": false,
    "id": "hHsHpnQY6TWA",
    "vscode": {
     "languageId": "python"
    }
   },
   "outputs": [],
   "source": [
    "# train longer\n",
    "new_budget = 10 * budget_pendulum\n",
    "\n",
    "ppo_model = PPO(\"MlpPolicy\", env_id, seed=0, verbose=0).learn(new_budget)"
   ]
  },
  {
   "cell_type": "code",
   "execution_count": 15,
   "id": "d117bd76-f1da-4cc4-aa83-5bb3ab6086d2",
   "metadata": {
    "collapsed": false,
    "id": "7OD9y1o36Xta",
    "vscode": {
     "languageId": "python"
    }
   },
   "outputs": [
    {
     "name": "stdout",
     "output_type": "stream",
     "text": [
      "PPO Mean episode reward: -1266.26 +/- 304.38\n"
     ]
    }
   ],
   "source": [
    "mean_reward, std_reward = evaluate_policy(ppo_model, eval_envs, n_eval_episodes=100, deterministic=True)\n",
    "\n",
    "print(f\"PPO Mean episode reward: {mean_reward:.2f} +/- {std_reward:.2f}\")"
   ]
  },
  {
   "cell_type": "markdown",
   "id": "cc492487-6627-4efa-b696-1543bda4efc6",
   "metadata": {
    "collapsed": false,
    "id": "YEvQ9SJ15Xmh"
   },
   "source": [
    "### PPO - Tuned Hyperparameters\n",
    "\n",
    "Using Optuna, we can in fact tune the hyperparameters and find a working solution (from the [RL Zoo](https://github.com/DLR-RM/rl-baselines3-zoo/blob/master/hyperparams/ppo.yml)):"
   ]
  },
  {
   "cell_type": "code",
   "execution_count": 16,
   "id": "94c79b1d-396e-4242-906d-2f2952e6fc4a",
   "metadata": {
    "collapsed": false,
    "id": "S-D_vvsb6jOZ",
    "vscode": {
     "languageId": "python"
    }
   },
   "outputs": [
    {
     "name": "stdout",
     "output_type": "stream",
     "text": [
      "Using cuda device\n",
      "Creating environment from the given name 'Pendulum-v1'\n",
      "Wrapping the env with a `Monitor` wrapper\n",
      "Wrapping the env in a DummyVecEnv.\n"
     ]
    },
    {
     "name": "stdout",
     "output_type": "stream",
     "text": [
      "-----------------------------------------\n",
      "| rollout/                |             |\n",
      "|    ep_len_mean          | 200         |\n",
      "|    ep_rew_mean          | -1.17e+03   |\n",
      "| time/                   |             |\n",
      "|    fps                  | 833         |\n",
      "|    iterations           | 5           |\n",
      "|    time_elapsed         | 12          |\n",
      "|    total_timesteps      | 10240       |\n",
      "| train/                  |             |\n",
      "|    approx_kl            | 0.028126108 |\n",
      "|    clip_fraction        | 0.243       |\n",
      "|    clip_range           | 0.2         |\n",
      "|    entropy_loss         | -2.61       |\n",
      "|    explained_variance   | 0.808       |\n",
      "|    learning_rate        | 0.001       |\n",
      "|    loss                 | 18.8        |\n",
      "|    n_updates            | 40          |\n",
      "|    policy_gradient_loss | -0.0271     |\n",
      "|    std                  | 0.923       |\n",
      "|    value_loss           | 44.2        |\n",
      "-----------------------------------------\n"
     ]
    },
    {
     "name": "stdout",
     "output_type": "stream",
     "text": [
      "-----------------------------------------\n",
      "| rollout/                |             |\n",
      "|    ep_len_mean          | 200         |\n",
      "|    ep_rew_mean          | -1.06e+03   |\n",
      "| time/                   |             |\n",
      "|    fps                  | 797         |\n",
      "|    iterations           | 10          |\n",
      "|    time_elapsed         | 25          |\n",
      "|    total_timesteps      | 20480       |\n",
      "| train/                  |             |\n",
      "|    approx_kl            | 0.031463865 |\n",
      "|    clip_fraction        | 0.268       |\n",
      "|    clip_range           | 0.2         |\n",
      "|    entropy_loss         | -2.28       |\n",
      "|    explained_variance   | 0.968       |\n",
      "|    learning_rate        | 0.001       |\n",
      "|    loss                 | 3.57        |\n",
      "|    n_updates            | 90          |\n",
      "|    policy_gradient_loss | -0.0427     |\n",
      "|    std                  | 0.49        |\n",
      "|    value_loss           | 8.6         |\n",
      "-----------------------------------------\n"
     ]
    },
    {
     "name": "stdout",
     "output_type": "stream",
     "text": [
      "----------------------------------------\n",
      "| rollout/                |            |\n",
      "|    ep_len_mean          | 200        |\n",
      "|    ep_rew_mean          | -686       |\n",
      "| time/                   |            |\n",
      "|    fps                  | 786        |\n",
      "|    iterations           | 15         |\n",
      "|    time_elapsed         | 39         |\n",
      "|    total_timesteps      | 30720      |\n",
      "| train/                  |            |\n",
      "|    approx_kl            | 0.01979826 |\n",
      "|    clip_fraction        | 0.24       |\n",
      "|    clip_range           | 0.2        |\n",
      "|    entropy_loss         | -1.44      |\n",
      "|    explained_variance   | 0.994      |\n",
      "|    learning_rate        | 0.001      |\n",
      "|    loss                 | 1.02       |\n",
      "|    n_updates            | 140        |\n",
      "|    policy_gradient_loss | -0.00708   |\n",
      "|    std                  | 0.284      |\n",
      "|    value_loss           | 2.21       |\n",
      "----------------------------------------\n"
     ]
    },
    {
     "name": "stdout",
     "output_type": "stream",
     "text": [
      "----------------------------------------\n",
      "| rollout/                |            |\n",
      "|    ep_len_mean          | 200        |\n",
      "|    ep_rew_mean          | -325       |\n",
      "| time/                   |            |\n",
      "|    fps                  | 784        |\n",
      "|    iterations           | 20         |\n",
      "|    time_elapsed         | 52         |\n",
      "|    total_timesteps      | 40960      |\n",
      "| train/                  |            |\n",
      "|    approx_kl            | 0.03706546 |\n",
      "|    clip_fraction        | 0.243      |\n",
      "|    clip_range           | 0.2        |\n",
      "|    entropy_loss         | -1.25      |\n",
      "|    explained_variance   | 0.996      |\n",
      "|    learning_rate        | 0.001      |\n",
      "|    loss                 | 0.437      |\n",
      "|    n_updates            | 190        |\n",
      "|    policy_gradient_loss | 0.00105    |\n",
      "|    std                  | 0.229      |\n",
      "|    value_loss           | 1.01       |\n",
      "----------------------------------------\n"
     ]
    },
    {
     "name": "stdout",
     "output_type": "stream",
     "text": [
      "-----------------------------------------\n",
      "| rollout/                |             |\n",
      "|    ep_len_mean          | 200         |\n",
      "|    ep_rew_mean          | -215        |\n",
      "| time/                   |             |\n",
      "|    fps                  | 784         |\n",
      "|    iterations           | 25          |\n",
      "|    time_elapsed         | 65          |\n",
      "|    total_timesteps      | 51200       |\n",
      "| train/                  |             |\n",
      "|    approx_kl            | 0.022205412 |\n",
      "|    clip_fraction        | 0.285       |\n",
      "|    clip_range           | 0.2         |\n",
      "|    entropy_loss         | -1.14       |\n",
      "|    explained_variance   | 0.996       |\n",
      "|    learning_rate        | 0.001       |\n",
      "|    loss                 | 0.185       |\n",
      "|    n_updates            | 240         |\n",
      "|    policy_gradient_loss | -0.0165     |\n",
      "|    std                  | 0.2         |\n",
      "|    value_loss           | 0.698       |\n",
      "-----------------------------------------\n"
     ]
    }
   ],
   "source": [
    "tuned_params = {\n",
    "    \"gamma\": 0.9,\n",
    "    \"use_sde\": True,\n",
    "    \"sde_sample_freq\": 4,\n",
    "    \"learning_rate\": 1e-3,\n",
    "}\n",
    "\n",
    "# budget = 10 * budget_pendulum\n",
    "ppo_tuned_model = PPO(\"MlpPolicy\", env_id, seed=1, verbose=1, **tuned_params).learn(50_000, log_interval=5)"
   ]
  },
  {
   "cell_type": "code",
   "execution_count": 17,
   "id": "bc9f726f-00a6-4fbd-881f-cc9bd2f6513f",
   "metadata": {
    "colab": {
     "base_uri": "https://localhost:8080/"
    },
    "collapsed": false,
    "id": "MLuxoLxt67xO",
    "outputId": "6bc7479b-689f-4d0f-9f01-379c31afdb4e",
    "vscode": {
     "languageId": "python"
    }
   },
   "outputs": [
    {
     "name": "stdout",
     "output_type": "stream",
     "text": [
      "Tuned PPO Mean episode reward: -193.94 +/- 105.82\n"
     ]
    }
   ],
   "source": [
    "mean_reward, std_reward = evaluate_policy(ppo_tuned_model, eval_envs, n_eval_episodes=100, deterministic=True)\n",
    "\n",
    "print(f\"Tuned PPO Mean episode reward: {mean_reward:.2f} +/- {std_reward:.2f}\")"
   ]
  },
  {
   "cell_type": "markdown",
   "id": "4e949de3-6da2-43d7-840e-8e22010ae73c",
   "metadata": {
    "collapsed": false,
    "id": "2H33u_apWPp5"
   },
   "source": [
    "Note: if you try SAC on the simple MountainCarContinuous environment, you will encounter some issues without tuned hyperparameters: https://github.com/rail-berkeley/softlearning/issues/76\n",
    "\n",
    "Simple environments can be challenging even for SOTA algorithms."
   ]
  },
  {
   "cell_type": "markdown",
   "id": "b616f13c-23a2-4403-b94c-463f6835b9e9",
   "metadata": {
    "collapsed": false,
    "id": "_vdpPJ04nebx"
   },
   "source": [
    "# Part II: Grad Student Descent\n"
   ]
  },
  {
   "cell_type": "markdown",
   "id": "d88b47d2-a6a8-4e50-a5e1-19516c15ec22",
   "metadata": {
    "collapsed": false,
    "id": "n8PNN9kcgolk"
   },
   "source": [
    "### Challenge (10 minutes): \"Grad Student Descent\"\n",
    "The challenge is to find the best hyperparameters (max performance) for A2C on `CartPole-v1` with a limited budget of 20 000 training steps.\n",
    "\n",
    "\n",
    "Maximum reward: 500 on `CartPole-v1`\n",
    "\n",
    "The hyperparameters should work for different random seeds."
   ]
  },
  {
   "cell_type": "code",
   "execution_count": 18,
   "id": "72ada954-bca3-45c7-a666-bd9176facd34",
   "metadata": {
    "collapsed": false,
    "id": "s6aqxsini7H3",
    "vscode": {
     "languageId": "python"
    }
   },
   "outputs": [],
   "source": [
    "budget = 20_000"
   ]
  },
  {
   "cell_type": "markdown",
   "id": "83f34170-4e31-4c1e-817e-5a4cb1af3c33",
   "metadata": {
    "collapsed": false,
    "id": "yDQ805DBi3KM"
   },
   "source": [
    "#### The baseline: default hyperparameters"
   ]
  },
  {
   "cell_type": "code",
   "execution_count": 19,
   "id": "3cbdcb71-ae72-40b3-85b5-7fef75481f12",
   "metadata": {
    "collapsed": false,
    "id": "pyOCKf4Vt-HK",
    "vscode": {
     "languageId": "python"
    }
   },
   "outputs": [],
   "source": [
    "eval_envs_cartpole = make_vec_env(\"CartPole-v1\", n_envs=10)"
   ]
  },
  {
   "cell_type": "code",
   "execution_count": 20,
   "id": "d5d707a3-9b21-469e-a834-7aa37761494e",
   "metadata": {
    "collapsed": false,
    "id": "D1PSNGcsi2dP",
    "vscode": {
     "languageId": "python"
    }
   },
   "outputs": [
    {
     "name": "stdout",
     "output_type": "stream",
     "text": [
      "Using cuda device\n",
      "Creating environment from the given name 'CartPole-v1'\n",
      "Wrapping the env with a `Monitor` wrapper\n",
      "Wrapping the env in a DummyVecEnv.\n"
     ]
    },
    {
     "name": "stdout",
     "output_type": "stream",
     "text": [
      "------------------------------------\n",
      "| rollout/              |          |\n",
      "|    ep_len_mean        | 20.2     |\n",
      "|    ep_rew_mean        | 20.2     |\n",
      "| time/                 |          |\n",
      "|    fps                | 637      |\n",
      "|    iterations         | 100      |\n",
      "|    time_elapsed       | 0        |\n",
      "|    total_timesteps    | 500      |\n",
      "| train/                |          |\n",
      "|    entropy_loss       | -0.688   |\n",
      "|    explained_variance | -0.0129  |\n",
      "|    learning_rate      | 0.0007   |\n",
      "|    n_updates          | 99       |\n",
      "|    policy_loss        | 1.95     |\n",
      "|    value_loss         | 8.69     |\n",
      "------------------------------------\n"
     ]
    },
    {
     "name": "stdout",
     "output_type": "stream",
     "text": [
      "------------------------------------\n",
      "| rollout/              |          |\n",
      "|    ep_len_mean        | 19.9     |\n",
      "|    ep_rew_mean        | 19.9     |\n",
      "| time/                 |          |\n",
      "|    fps                | 679      |\n",
      "|    iterations         | 200      |\n",
      "|    time_elapsed       | 1        |\n",
      "|    total_timesteps    | 1000     |\n",
      "| train/                |          |\n",
      "|    entropy_loss       | -0.693   |\n",
      "|    explained_variance | 0.178    |\n",
      "|    learning_rate      | 0.0007   |\n",
      "|    n_updates          | 199      |\n",
      "|    policy_loss        | -5.49    |\n",
      "|    value_loss         | 88.4     |\n",
      "------------------------------------\n"
     ]
    },
    {
     "name": "stdout",
     "output_type": "stream",
     "text": [
      "------------------------------------\n",
      "| rollout/              |          |\n",
      "|    ep_len_mean        | 19.6     |\n",
      "|    ep_rew_mean        | 19.6     |\n",
      "| time/                 |          |\n",
      "|    fps                | 697      |\n",
      "|    iterations         | 300      |\n",
      "|    time_elapsed       | 2        |\n",
      "|    total_timesteps    | 1500     |\n",
      "| train/                |          |\n",
      "|    entropy_loss       | -0.691   |\n",
      "|    explained_variance | -0.0665  |\n",
      "|    learning_rate      | 0.0007   |\n",
      "|    n_updates          | 299      |\n",
      "|    policy_loss        | 1.81     |\n",
      "|    value_loss         | 7.53     |\n",
      "------------------------------------\n"
     ]
    },
    {
     "name": "stdout",
     "output_type": "stream",
     "text": [
      "-------------------------------------\n",
      "| rollout/              |           |\n",
      "|    ep_len_mean        | 19.7      |\n",
      "|    ep_rew_mean        | 19.7      |\n",
      "| time/                 |           |\n",
      "|    fps                | 702       |\n",
      "|    iterations         | 400       |\n",
      "|    time_elapsed       | 2         |\n",
      "|    total_timesteps    | 2000      |\n",
      "| train/                |           |\n",
      "|    entropy_loss       | -0.69     |\n",
      "|    explained_variance | -0.000388 |\n",
      "|    learning_rate      | 0.0007    |\n",
      "|    n_updates          | 399       |\n",
      "|    policy_loss        | 1.65      |\n",
      "|    value_loss         | 6.52      |\n",
      "-------------------------------------\n"
     ]
    },
    {
     "name": "stdout",
     "output_type": "stream",
     "text": [
      "------------------------------------\n",
      "| rollout/              |          |\n",
      "|    ep_len_mean        | 20.7     |\n",
      "|    ep_rew_mean        | 20.7     |\n",
      "| time/                 |          |\n",
      "|    fps                | 717      |\n",
      "|    iterations         | 500      |\n",
      "|    time_elapsed       | 3        |\n",
      "|    total_timesteps    | 2500     |\n",
      "| train/                |          |\n",
      "|    entropy_loss       | -0.68    |\n",
      "|    explained_variance | -0.178   |\n",
      "|    learning_rate      | 0.0007   |\n",
      "|    n_updates          | 499      |\n",
      "|    policy_loss        | -12.9    |\n",
      "|    value_loss         | 476      |\n",
      "------------------------------------\n"
     ]
    },
    {
     "name": "stdout",
     "output_type": "stream",
     "text": [
      "------------------------------------\n",
      "| rollout/              |          |\n",
      "|    ep_len_mean        | 21.3     |\n",
      "|    ep_rew_mean        | 21.3     |\n",
      "| time/                 |          |\n",
      "|    fps                | 723      |\n",
      "|    iterations         | 600      |\n",
      "|    time_elapsed       | 4        |\n",
      "|    total_timesteps    | 3000     |\n",
      "| train/                |          |\n",
      "|    entropy_loss       | -0.692   |\n",
      "|    explained_variance | 0.00671  |\n",
      "|    learning_rate      | 0.0007   |\n",
      "|    n_updates          | 599      |\n",
      "|    policy_loss        | 1.46     |\n",
      "|    value_loss         | 5.61     |\n",
      "------------------------------------\n"
     ]
    },
    {
     "name": "stdout",
     "output_type": "stream",
     "text": [
      "------------------------------------\n",
      "| rollout/              |          |\n",
      "|    ep_len_mean        | 22.2     |\n",
      "|    ep_rew_mean        | 22.2     |\n",
      "| time/                 |          |\n",
      "|    fps                | 724      |\n",
      "|    iterations         | 700      |\n",
      "|    time_elapsed       | 4        |\n",
      "|    total_timesteps    | 3500     |\n",
      "| train/                |          |\n",
      "|    entropy_loss       | -0.693   |\n",
      "|    explained_variance | 0.031    |\n",
      "|    learning_rate      | 0.0007   |\n",
      "|    n_updates          | 699      |\n",
      "|    policy_loss        | 1.33     |\n",
      "|    value_loss         | 4.7      |\n",
      "------------------------------------\n"
     ]
    },
    {
     "name": "stdout",
     "output_type": "stream",
     "text": [
      "------------------------------------\n",
      "| rollout/              |          |\n",
      "|    ep_len_mean        | 23       |\n",
      "|    ep_rew_mean        | 23       |\n",
      "| time/                 |          |\n",
      "|    fps                | 725      |\n",
      "|    iterations         | 800      |\n",
      "|    time_elapsed       | 5        |\n",
      "|    total_timesteps    | 4000     |\n",
      "| train/                |          |\n",
      "|    entropy_loss       | -0.689   |\n",
      "|    explained_variance | 0.17     |\n",
      "|    learning_rate      | 0.0007   |\n",
      "|    n_updates          | 799      |\n",
      "|    policy_loss        | 1.32     |\n",
      "|    value_loss         | 4.34     |\n",
      "------------------------------------\n"
     ]
    },
    {
     "name": "stdout",
     "output_type": "stream",
     "text": [
      "------------------------------------\n",
      "| rollout/              |          |\n",
      "|    ep_len_mean        | 24.2     |\n",
      "|    ep_rew_mean        | 24.2     |\n",
      "| time/                 |          |\n",
      "|    fps                | 725      |\n",
      "|    iterations         | 900      |\n",
      "|    time_elapsed       | 6        |\n",
      "|    total_timesteps    | 4500     |\n",
      "| train/                |          |\n",
      "|    entropy_loss       | -0.688   |\n",
      "|    explained_variance | 0.006    |\n",
      "|    learning_rate      | 0.0007   |\n",
      "|    n_updates          | 899      |\n",
      "|    policy_loss        | 1.33     |\n",
      "|    value_loss         | 4.33     |\n",
      "------------------------------------\n"
     ]
    },
    {
     "name": "stdout",
     "output_type": "stream",
     "text": [
      "------------------------------------\n",
      "| rollout/              |          |\n",
      "|    ep_len_mean        | 25.3     |\n",
      "|    ep_rew_mean        | 25.3     |\n",
      "| time/                 |          |\n",
      "|    fps                | 726      |\n",
      "|    iterations         | 1000     |\n",
      "|    time_elapsed       | 6        |\n",
      "|    total_timesteps    | 5000     |\n",
      "| train/                |          |\n",
      "|    entropy_loss       | -0.625   |\n",
      "|    explained_variance | 0.0399   |\n",
      "|    learning_rate      | 0.0007   |\n",
      "|    n_updates          | 999      |\n",
      "|    policy_loss        | 1.54     |\n",
      "|    value_loss         | 3.87     |\n",
      "------------------------------------\n"
     ]
    },
    {
     "name": "stdout",
     "output_type": "stream",
     "text": [
      "------------------------------------\n",
      "| rollout/              |          |\n",
      "|    ep_len_mean        | 29.1     |\n",
      "|    ep_rew_mean        | 29.1     |\n",
      "| time/                 |          |\n",
      "|    fps                | 727      |\n",
      "|    iterations         | 1100     |\n",
      "|    time_elapsed       | 7        |\n",
      "|    total_timesteps    | 5500     |\n",
      "| train/                |          |\n",
      "|    entropy_loss       | -0.671   |\n",
      "|    explained_variance | 0.00653  |\n",
      "|    learning_rate      | 0.0007   |\n",
      "|    n_updates          | 1099     |\n",
      "|    policy_loss        | 0.939    |\n",
      "|    value_loss         | 3.27     |\n",
      "------------------------------------\n"
     ]
    },
    {
     "name": "stdout",
     "output_type": "stream",
     "text": [
      "------------------------------------\n",
      "| rollout/              |          |\n",
      "|    ep_len_mean        | 32.3     |\n",
      "|    ep_rew_mean        | 32.3     |\n",
      "| time/                 |          |\n",
      "|    fps                | 727      |\n",
      "|    iterations         | 1200     |\n",
      "|    time_elapsed       | 8        |\n",
      "|    total_timesteps    | 6000     |\n",
      "| train/                |          |\n",
      "|    entropy_loss       | -0.62    |\n",
      "|    explained_variance | 0.0192   |\n",
      "|    learning_rate      | 0.0007   |\n",
      "|    n_updates          | 1199     |\n",
      "|    policy_loss        | 0.995    |\n",
      "|    value_loss         | 2.82     |\n",
      "------------------------------------\n"
     ]
    },
    {
     "name": "stdout",
     "output_type": "stream",
     "text": [
      "------------------------------------\n",
      "| rollout/              |          |\n",
      "|    ep_len_mean        | 34.6     |\n",
      "|    ep_rew_mean        | 34.6     |\n",
      "| time/                 |          |\n",
      "|    fps                | 727      |\n",
      "|    iterations         | 1300     |\n",
      "|    time_elapsed       | 8        |\n",
      "|    total_timesteps    | 6500     |\n",
      "| train/                |          |\n",
      "|    entropy_loss       | -0.607   |\n",
      "|    explained_variance | 0.000248 |\n",
      "|    learning_rate      | 0.0007   |\n",
      "|    n_updates          | 1299     |\n",
      "|    policy_loss        | 0.572    |\n",
      "|    value_loss         | 2.51     |\n",
      "------------------------------------\n"
     ]
    },
    {
     "name": "stdout",
     "output_type": "stream",
     "text": [
      "-------------------------------------\n",
      "| rollout/              |           |\n",
      "|    ep_len_mean        | 38.1      |\n",
      "|    ep_rew_mean        | 38.1      |\n",
      "| time/                 |           |\n",
      "|    fps                | 727       |\n",
      "|    iterations         | 1400      |\n",
      "|    time_elapsed       | 9         |\n",
      "|    total_timesteps    | 7000      |\n",
      "| train/                |           |\n",
      "|    entropy_loss       | -0.425    |\n",
      "|    explained_variance | -0.000446 |\n",
      "|    learning_rate      | 0.0007    |\n",
      "|    n_updates          | 1399      |\n",
      "|    policy_loss        | 1.1       |\n",
      "|    value_loss         | 2.13      |\n",
      "-------------------------------------\n"
     ]
    },
    {
     "name": "stdout",
     "output_type": "stream",
     "text": [
      "-------------------------------------\n",
      "| rollout/              |           |\n",
      "|    ep_len_mean        | 42.1      |\n",
      "|    ep_rew_mean        | 42.1      |\n",
      "| time/                 |           |\n",
      "|    fps                | 726       |\n",
      "|    iterations         | 1500      |\n",
      "|    time_elapsed       | 10        |\n",
      "|    total_timesteps    | 7500      |\n",
      "| train/                |           |\n",
      "|    entropy_loss       | -0.65     |\n",
      "|    explained_variance | -0.000627 |\n",
      "|    learning_rate      | 0.0007    |\n",
      "|    n_updates          | 1499      |\n",
      "|    policy_loss        | 0.649     |\n",
      "|    value_loss         | 1.77      |\n",
      "-------------------------------------\n"
     ]
    },
    {
     "name": "stdout",
     "output_type": "stream",
     "text": [
      "------------------------------------\n",
      "| rollout/              |          |\n",
      "|    ep_len_mean        | 46       |\n",
      "|    ep_rew_mean        | 46       |\n",
      "| time/                 |          |\n",
      "|    fps                | 726      |\n",
      "|    iterations         | 1600     |\n",
      "|    time_elapsed       | 11       |\n",
      "|    total_timesteps    | 8000     |\n",
      "| train/                |          |\n",
      "|    entropy_loss       | -0.474   |\n",
      "|    explained_variance | -0.00596 |\n",
      "|    learning_rate      | 0.0007   |\n",
      "|    n_updates          | 1599     |\n",
      "|    policy_loss        | 0.85     |\n",
      "|    value_loss         | 1.42     |\n",
      "------------------------------------\n"
     ]
    },
    {
     "name": "stdout",
     "output_type": "stream",
     "text": [
      "------------------------------------\n",
      "| rollout/              |          |\n",
      "|    ep_len_mean        | 48.9     |\n",
      "|    ep_rew_mean        | 48.9     |\n",
      "| time/                 |          |\n",
      "|    fps                | 726      |\n",
      "|    iterations         | 1700     |\n",
      "|    time_elapsed       | 11       |\n",
      "|    total_timesteps    | 8500     |\n",
      "| train/                |          |\n",
      "|    entropy_loss       | -0.404   |\n",
      "|    explained_variance | 0.00036  |\n",
      "|    learning_rate      | 0.0007   |\n",
      "|    n_updates          | 1699     |\n",
      "|    policy_loss        | 0.882    |\n",
      "|    value_loss         | 1.1      |\n",
      "------------------------------------\n"
     ]
    },
    {
     "name": "stdout",
     "output_type": "stream",
     "text": [
      "-------------------------------------\n",
      "| rollout/              |           |\n",
      "|    ep_len_mean        | 55        |\n",
      "|    ep_rew_mean        | 55        |\n",
      "| time/                 |           |\n",
      "|    fps                | 726       |\n",
      "|    iterations         | 1800      |\n",
      "|    time_elapsed       | 12        |\n",
      "|    total_timesteps    | 9000      |\n",
      "| train/                |           |\n",
      "|    entropy_loss       | -0.534    |\n",
      "|    explained_variance | -0.000588 |\n",
      "|    learning_rate      | 0.0007    |\n",
      "|    n_updates          | 1799      |\n",
      "|    policy_loss        | 0.495     |\n",
      "|    value_loss         | 0.823     |\n",
      "-------------------------------------\n"
     ]
    },
    {
     "name": "stdout",
     "output_type": "stream",
     "text": [
      "------------------------------------\n",
      "| rollout/              |          |\n",
      "|    ep_len_mean        | 58.8     |\n",
      "|    ep_rew_mean        | 58.8     |\n",
      "| time/                 |          |\n",
      "|    fps                | 726      |\n",
      "|    iterations         | 1900     |\n",
      "|    time_elapsed       | 13       |\n",
      "|    total_timesteps    | 9500     |\n",
      "| train/                |          |\n",
      "|    entropy_loss       | -0.505   |\n",
      "|    explained_variance | 0.000926 |\n",
      "|    learning_rate      | 0.0007   |\n",
      "|    n_updates          | 1899     |\n",
      "|    policy_loss        | 0.295    |\n",
      "|    value_loss         | 0.584    |\n",
      "------------------------------------\n"
     ]
    },
    {
     "name": "stdout",
     "output_type": "stream",
     "text": [
      "-------------------------------------\n",
      "| rollout/              |           |\n",
      "|    ep_len_mean        | 62.8      |\n",
      "|    ep_rew_mean        | 62.8      |\n",
      "| time/                 |           |\n",
      "|    fps                | 726       |\n",
      "|    iterations         | 2000      |\n",
      "|    time_elapsed       | 13        |\n",
      "|    total_timesteps    | 10000     |\n",
      "| train/                |           |\n",
      "|    entropy_loss       | -0.547    |\n",
      "|    explained_variance | -0.000189 |\n",
      "|    learning_rate      | 0.0007    |\n",
      "|    n_updates          | 1999      |\n",
      "|    policy_loss        | 0.271     |\n",
      "|    value_loss         | 0.387     |\n",
      "-------------------------------------\n"
     ]
    },
    {
     "name": "stdout",
     "output_type": "stream",
     "text": [
      "-------------------------------------\n",
      "| rollout/              |           |\n",
      "|    ep_len_mean        | 67.4      |\n",
      "|    ep_rew_mean        | 67.4      |\n",
      "| time/                 |           |\n",
      "|    fps                | 725       |\n",
      "|    iterations         | 2100      |\n",
      "|    time_elapsed       | 14        |\n",
      "|    total_timesteps    | 10500     |\n",
      "| train/                |           |\n",
      "|    entropy_loss       | -0.557    |\n",
      "|    explained_variance | -0.000216 |\n",
      "|    learning_rate      | 0.0007    |\n",
      "|    n_updates          | 2099      |\n",
      "|    policy_loss        | 0.22      |\n",
      "|    value_loss         | 0.225     |\n",
      "-------------------------------------\n"
     ]
    },
    {
     "name": "stdout",
     "output_type": "stream",
     "text": [
      "-------------------------------------\n",
      "| rollout/              |           |\n",
      "|    ep_len_mean        | 72.6      |\n",
      "|    ep_rew_mean        | 72.6      |\n",
      "| time/                 |           |\n",
      "|    fps                | 725       |\n",
      "|    iterations         | 2200      |\n",
      "|    time_elapsed       | 15        |\n",
      "|    total_timesteps    | 11000     |\n",
      "| train/                |           |\n",
      "|    entropy_loss       | -0.585    |\n",
      "|    explained_variance | -4.77e-07 |\n",
      "|    learning_rate      | 0.0007    |\n",
      "|    n_updates          | 2199      |\n",
      "|    policy_loss        | 0.104     |\n",
      "|    value_loss         | 0.109     |\n",
      "-------------------------------------\n"
     ]
    },
    {
     "name": "stdout",
     "output_type": "stream",
     "text": [
      "------------------------------------\n",
      "| rollout/              |          |\n",
      "|    ep_len_mean        | 77.2     |\n",
      "|    ep_rew_mean        | 77.2     |\n",
      "| time/                 |          |\n",
      "|    fps                | 725      |\n",
      "|    iterations         | 2300     |\n",
      "|    time_elapsed       | 15       |\n",
      "|    total_timesteps    | 11500    |\n",
      "| train/                |          |\n",
      "|    entropy_loss       | -0.416   |\n",
      "|    explained_variance | 7.03e-05 |\n",
      "|    learning_rate      | 0.0007   |\n",
      "|    n_updates          | 2299     |\n",
      "|    policy_loss        | 0.162    |\n",
      "|    value_loss         | 0.0354   |\n",
      "------------------------------------\n"
     ]
    },
    {
     "name": "stdout",
     "output_type": "stream",
     "text": [
      "------------------------------------\n",
      "| rollout/              |          |\n",
      "|    ep_len_mean        | 81.8     |\n",
      "|    ep_rew_mean        | 81.8     |\n",
      "| time/                 |          |\n",
      "|    fps                | 725      |\n",
      "|    iterations         | 2400     |\n",
      "|    time_elapsed       | 16       |\n",
      "|    total_timesteps    | 12000    |\n",
      "| train/                |          |\n",
      "|    entropy_loss       | -0.532   |\n",
      "|    explained_variance | 0.000919 |\n",
      "|    learning_rate      | 0.0007   |\n",
      "|    n_updates          | 2399     |\n",
      "|    policy_loss        | 0.0178   |\n",
      "|    value_loss         | 0.00197  |\n",
      "------------------------------------\n"
     ]
    },
    {
     "name": "stdout",
     "output_type": "stream",
     "text": [
      "------------------------------------\n",
      "| rollout/              |          |\n",
      "|    ep_len_mean        | 84.5     |\n",
      "|    ep_rew_mean        | 84.5     |\n",
      "| time/                 |          |\n",
      "|    fps                | 725      |\n",
      "|    iterations         | 2500     |\n",
      "|    time_elapsed       | 17       |\n",
      "|    total_timesteps    | 12500    |\n",
      "| train/                |          |\n",
      "|    entropy_loss       | -0.56    |\n",
      "|    explained_variance | -0.00834 |\n",
      "|    learning_rate      | 0.0007   |\n",
      "|    n_updates          | 2499     |\n",
      "|    policy_loss        | 0.000931 |\n",
      "|    value_loss         | 9.36e-06 |\n",
      "------------------------------------\n"
     ]
    },
    {
     "name": "stdout",
     "output_type": "stream",
     "text": [
      "------------------------------------\n",
      "| rollout/              |          |\n",
      "|    ep_len_mean        | 91.1     |\n",
      "|    ep_rew_mean        | 91.1     |\n",
      "| time/                 |          |\n",
      "|    fps                | 725      |\n",
      "|    iterations         | 2600     |\n",
      "|    time_elapsed       | 17       |\n",
      "|    total_timesteps    | 13000    |\n",
      "| train/                |          |\n",
      "|    entropy_loss       | -0.51    |\n",
      "|    explained_variance | -0.0151  |\n",
      "|    learning_rate      | 0.0007   |\n",
      "|    n_updates          | 2599     |\n",
      "|    policy_loss        | 0.00124  |\n",
      "|    value_loss         | 5.94e-06 |\n",
      "------------------------------------\n"
     ]
    },
    {
     "name": "stdout",
     "output_type": "stream",
     "text": [
      "------------------------------------\n",
      "| rollout/              |          |\n",
      "|    ep_len_mean        | 94.6     |\n",
      "|    ep_rew_mean        | 94.6     |\n",
      "| time/                 |          |\n",
      "|    fps                | 725      |\n",
      "|    iterations         | 2700     |\n",
      "|    time_elapsed       | 18       |\n",
      "|    total_timesteps    | 13500    |\n",
      "| train/                |          |\n",
      "|    entropy_loss       | -0.368   |\n",
      "|    explained_variance | -0.0187  |\n",
      "|    learning_rate      | 0.0007   |\n",
      "|    n_updates          | 2699     |\n",
      "|    policy_loss        | 0.00071  |\n",
      "|    value_loss         | 1.2e-06  |\n",
      "------------------------------------\n"
     ]
    },
    {
     "name": "stdout",
     "output_type": "stream",
     "text": [
      "------------------------------------\n",
      "| rollout/              |          |\n",
      "|    ep_len_mean        | 98.8     |\n",
      "|    ep_rew_mean        | 98.8     |\n",
      "| time/                 |          |\n",
      "|    fps                | 725      |\n",
      "|    iterations         | 2800     |\n",
      "|    time_elapsed       | 19       |\n",
      "|    total_timesteps    | 14000    |\n",
      "| train/                |          |\n",
      "|    entropy_loss       | -0.544   |\n",
      "|    explained_variance | 0.301    |\n",
      "|    learning_rate      | 0.0007   |\n",
      "|    n_updates          | 2799     |\n",
      "|    policy_loss        | 0.00018  |\n",
      "|    value_loss         | 1.58e-07 |\n",
      "------------------------------------\n"
     ]
    },
    {
     "name": "stdout",
     "output_type": "stream",
     "text": [
      "------------------------------------\n",
      "| rollout/              |          |\n",
      "|    ep_len_mean        | 104      |\n",
      "|    ep_rew_mean        | 104      |\n",
      "| time/                 |          |\n",
      "|    fps                | 726      |\n",
      "|    iterations         | 2900     |\n",
      "|    time_elapsed       | 19       |\n",
      "|    total_timesteps    | 14500    |\n",
      "| train/                |          |\n",
      "|    entropy_loss       | -0.469   |\n",
      "|    explained_variance | 0.122    |\n",
      "|    learning_rate      | 0.0007   |\n",
      "|    n_updates          | 2899     |\n",
      "|    policy_loss        | 0.000126 |\n",
      "|    value_loss         | 2.27e-07 |\n",
      "------------------------------------\n"
     ]
    },
    {
     "name": "stdout",
     "output_type": "stream",
     "text": [
      "------------------------------------\n",
      "| rollout/              |          |\n",
      "|    ep_len_mean        | 107      |\n",
      "|    ep_rew_mean        | 107      |\n",
      "| time/                 |          |\n",
      "|    fps                | 726      |\n",
      "|    iterations         | 3000     |\n",
      "|    time_elapsed       | 20       |\n",
      "|    total_timesteps    | 15000    |\n",
      "| train/                |          |\n",
      "|    entropy_loss       | -0.533   |\n",
      "|    explained_variance | nan      |\n",
      "|    learning_rate      | 0.0007   |\n",
      "|    n_updates          | 2999     |\n",
      "|    policy_loss        | 6.52e-06 |\n",
      "|    value_loss         | 5.59e-10 |\n",
      "------------------------------------\n"
     ]
    },
    {
     "name": "stdout",
     "output_type": "stream",
     "text": [
      "------------------------------------\n",
      "| rollout/              |          |\n",
      "|    ep_len_mean        | 111      |\n",
      "|    ep_rew_mean        | 111      |\n",
      "| time/                 |          |\n",
      "|    fps                | 726      |\n",
      "|    iterations         | 3100     |\n",
      "|    time_elapsed       | 21       |\n",
      "|    total_timesteps    | 15500    |\n",
      "| train/                |          |\n",
      "|    entropy_loss       | -0.423   |\n",
      "|    explained_variance | nan      |\n",
      "|    learning_rate      | 0.0007   |\n",
      "|    n_updates          | 3099     |\n",
      "|    policy_loss        | 1.31e-06 |\n",
      "|    value_loss         | 2.33e-11 |\n",
      "------------------------------------\n"
     ]
    },
    {
     "name": "stdout",
     "output_type": "stream",
     "text": [
      "------------------------------------\n",
      "| rollout/              |          |\n",
      "|    ep_len_mean        | 114      |\n",
      "|    ep_rew_mean        | 114      |\n",
      "| time/                 |          |\n",
      "|    fps                | 725      |\n",
      "|    iterations         | 3200     |\n",
      "|    time_elapsed       | 22       |\n",
      "|    total_timesteps    | 16000    |\n",
      "| train/                |          |\n",
      "|    entropy_loss       | -0.435   |\n",
      "|    explained_variance | -3.12    |\n",
      "|    learning_rate      | 0.0007   |\n",
      "|    n_updates          | 3199     |\n",
      "|    policy_loss        | 1.17e-05 |\n",
      "|    value_loss         | 1.61e-09 |\n",
      "------------------------------------\n"
     ]
    },
    {
     "name": "stdout",
     "output_type": "stream",
     "text": [
      "------------------------------------\n",
      "| rollout/              |          |\n",
      "|    ep_len_mean        | 119      |\n",
      "|    ep_rew_mean        | 119      |\n",
      "| time/                 |          |\n",
      "|    fps                | 725      |\n",
      "|    iterations         | 3300     |\n",
      "|    time_elapsed       | 22       |\n",
      "|    total_timesteps    | 16500    |\n",
      "| train/                |          |\n",
      "|    entropy_loss       | -0.424   |\n",
      "|    explained_variance | nan      |\n",
      "|    learning_rate      | 0.0007   |\n",
      "|    n_updates          | 3299     |\n",
      "|    policy_loss        | 9.67e-07 |\n",
      "|    value_loss         | 5.24e-10 |\n",
      "------------------------------------\n"
     ]
    },
    {
     "name": "stdout",
     "output_type": "stream",
     "text": [
      "------------------------------------\n",
      "| rollout/              |          |\n",
      "|    ep_len_mean        | 124      |\n",
      "|    ep_rew_mean        | 124      |\n",
      "| time/                 |          |\n",
      "|    fps                | 725      |\n",
      "|    iterations         | 3400     |\n",
      "|    time_elapsed       | 23       |\n",
      "|    total_timesteps    | 17000    |\n",
      "| train/                |          |\n",
      "|    entropy_loss       | -0.399   |\n",
      "|    explained_variance | -2.32    |\n",
      "|    learning_rate      | 0.0007   |\n",
      "|    n_updates          | 3399     |\n",
      "|    policy_loss        | 1.46e-05 |\n",
      "|    value_loss         | 1.51e-09 |\n",
      "------------------------------------\n"
     ]
    },
    {
     "name": "stdout",
     "output_type": "stream",
     "text": [
      "------------------------------------\n",
      "| rollout/              |          |\n",
      "|    ep_len_mean        | 129      |\n",
      "|    ep_rew_mean        | 129      |\n",
      "| time/                 |          |\n",
      "|    fps                | 725      |\n",
      "|    iterations         | 3500     |\n",
      "|    time_elapsed       | 24       |\n",
      "|    total_timesteps    | 17500    |\n",
      "| train/                |          |\n",
      "|    entropy_loss       | -0.536   |\n",
      "|    explained_variance | nan      |\n",
      "|    learning_rate      | 0.0007   |\n",
      "|    n_updates          | 3499     |\n",
      "|    policy_loss        | 8.35e-06 |\n",
      "|    value_loss         | 1.13e-09 |\n",
      "------------------------------------\n"
     ]
    },
    {
     "name": "stdout",
     "output_type": "stream",
     "text": [
      "------------------------------------\n",
      "| rollout/              |          |\n",
      "|    ep_len_mean        | 134      |\n",
      "|    ep_rew_mean        | 134      |\n",
      "| time/                 |          |\n",
      "|    fps                | 725      |\n",
      "|    iterations         | 3600     |\n",
      "|    time_elapsed       | 24       |\n",
      "|    total_timesteps    | 18000    |\n",
      "| train/                |          |\n",
      "|    entropy_loss       | -0.463   |\n",
      "|    explained_variance | -0.00633 |\n",
      "|    learning_rate      | 0.0007   |\n",
      "|    n_updates          | 3599     |\n",
      "|    policy_loss        | 0.000121 |\n",
      "|    value_loss         | 5.39e-08 |\n",
      "------------------------------------\n"
     ]
    },
    {
     "name": "stdout",
     "output_type": "stream",
     "text": [
      "-------------------------------------\n",
      "| rollout/              |           |\n",
      "|    ep_len_mean        | 138       |\n",
      "|    ep_rew_mean        | 138       |\n",
      "| time/                 |           |\n",
      "|    fps                | 725       |\n",
      "|    iterations         | 3700      |\n",
      "|    time_elapsed       | 25        |\n",
      "|    total_timesteps    | 18500     |\n",
      "| train/                |           |\n",
      "|    entropy_loss       | -0.453    |\n",
      "|    explained_variance | -0.104    |\n",
      "|    learning_rate      | 0.0007    |\n",
      "|    n_updates          | 3699      |\n",
      "|    policy_loss        | -0.000458 |\n",
      "|    value_loss         | 1.3e-06   |\n",
      "-------------------------------------\n"
     ]
    },
    {
     "name": "stdout",
     "output_type": "stream",
     "text": [
      "------------------------------------\n",
      "| rollout/              |          |\n",
      "|    ep_len_mean        | 147      |\n",
      "|    ep_rew_mean        | 147      |\n",
      "| time/                 |          |\n",
      "|    fps                | 725      |\n",
      "|    iterations         | 3800     |\n",
      "|    time_elapsed       | 26       |\n",
      "|    total_timesteps    | 19000    |\n",
      "| train/                |          |\n",
      "|    entropy_loss       | -0.341   |\n",
      "|    explained_variance | 0.427    |\n",
      "|    learning_rate      | 0.0007   |\n",
      "|    n_updates          | 3799     |\n",
      "|    policy_loss        | 4.41e-05 |\n",
      "|    value_loss         | 1.37e-08 |\n",
      "------------------------------------\n"
     ]
    },
    {
     "name": "stdout",
     "output_type": "stream",
     "text": [
      "------------------------------------\n",
      "| rollout/              |          |\n",
      "|    ep_len_mean        | 151      |\n",
      "|    ep_rew_mean        | 151      |\n",
      "| time/                 |          |\n",
      "|    fps                | 726      |\n",
      "|    iterations         | 3900     |\n",
      "|    time_elapsed       | 26       |\n",
      "|    total_timesteps    | 19500    |\n",
      "| train/                |          |\n",
      "|    entropy_loss       | -0.298   |\n",
      "|    explained_variance | 0.0542   |\n",
      "|    learning_rate      | 0.0007   |\n",
      "|    n_updates          | 3899     |\n",
      "|    policy_loss        | 0.000255 |\n",
      "|    value_loss         | 1.21e-07 |\n",
      "------------------------------------\n"
     ]
    },
    {
     "name": "stdout",
     "output_type": "stream",
     "text": [
      "------------------------------------\n",
      "| rollout/              |          |\n",
      "|    ep_len_mean        | 155      |\n",
      "|    ep_rew_mean        | 155      |\n",
      "| time/                 |          |\n",
      "|    fps                | 727      |\n",
      "|    iterations         | 4000     |\n",
      "|    time_elapsed       | 27       |\n",
      "|    total_timesteps    | 20000    |\n",
      "| train/                |          |\n",
      "|    entropy_loss       | -0.465   |\n",
      "|    explained_variance | -0.00157 |\n",
      "|    learning_rate      | 0.0007   |\n",
      "|    n_updates          | 3999     |\n",
      "|    policy_loss        | 0.000204 |\n",
      "|    value_loss         | 1.21e-06 |\n",
      "------------------------------------\n"
     ]
    }
   ],
   "source": [
    "model = A2C(\"MlpPolicy\", \"CartPole-v1\", seed=8, verbose=0).learn(budget)"
   ]
  },
  {
   "cell_type": "code",
   "execution_count": 21,
   "id": "e06a4ae9-999c-4092-9f66-43c97a7e19ee",
   "metadata": {
    "colab": {
     "base_uri": "https://localhost:8080/"
    },
    "collapsed": false,
    "id": "2d3X0G0ng2OE",
    "outputId": "8d550b14-a673-4abd-b9b8-c539d9c79c05",
    "vscode": {
     "languageId": "python"
    }
   },
   "outputs": [
    {
     "name": "stdout",
     "output_type": "stream",
     "text": [
      "mean_reward:249.34 +/- 97.58\n"
     ]
    }
   ],
   "source": [
    "mean_reward, std_reward = evaluate_policy(model, eval_envs_cartpole, n_eval_episodes=50, deterministic=True)\n",
    "\n",
    "print(f\"mean_reward:{mean_reward:.2f} +/- {std_reward:.2f}\")"
   ]
  },
  {
   "cell_type": "markdown",
   "id": "5cdf443e-9251-4da0-823a-8482b9e64d5b",
   "metadata": {
    "collapsed": false,
    "id": "B-fi1-oKnUI2"
   },
   "source": [
    "**Your goal is to beat that baseline and get closer to the optimal score of 500**"
   ]
  },
  {
   "cell_type": "markdown",
   "id": "9858d288-dbd2-4ef1-8d3b-d4f16cb76ace",
   "metadata": {
    "collapsed": false,
    "id": "qvq8zizok1X_"
   },
   "source": [
    "Time to tune!"
   ]
  },
  {
   "cell_type": "code",
   "execution_count": 22,
   "id": "56666d2c-9b45-430d-8c08-85c9799f17b5",
   "metadata": {
    "collapsed": false,
    "id": "UaqCCH4gkRH_",
    "vscode": {
     "languageId": "python"
    }
   },
   "outputs": [],
   "source": [
    "import torch.nn as nn"
   ]
  },
  {
   "cell_type": "code",
   "execution_count": 24,
   "id": "ad066429-e9bb-4e9b-8d22-c681e8a4e965",
   "metadata": {
    "collapsed": false,
    "id": "uDUfeZcyjPKS",
    "vscode": {
     "languageId": "python"
    }
   },
   "outputs": [],
   "source": [
    "policy_kwargs = dict(\n",
    "    net_arch=[\n",
    "      dict(vf=[64, 64], pi=[64, 64]), # network architectures for actor/critic\n",
    "    ],\n",
    "    activation_fn=nn.Tanh,\n",
    ")\n",
    "\n",
    "hyperparams = dict(\n",
    "    n_steps=5, # number of steps to collect data before updating policy\n",
    "    learning_rate=7e-4,\n",
    "    gamma=0.99, # discount factor\n",
    "    max_grad_norm=0.5, # The maximum value for the gradient clipping\n",
    "    ent_coef=0.0, # Entropy coefficient for the loss calculation\n",
    ")\n",
    "\n",
    "model = A2C(\"MlpPolicy\", \"CartPole-v1\", seed=8, verbose=0, **hyperparams).learn(budget)"
   ]
  },
  {
   "cell_type": "code",
   "execution_count": 25,
   "id": "e4c2b80e-b440-4cdf-a573-79d4912599b5",
   "metadata": {
    "collapsed": false,
    "id": "kTAed_8hb7GS",
    "vscode": {
     "languageId": "python"
    }
   },
   "outputs": [
    {
     "name": "stdout",
     "output_type": "stream",
     "text": [
      "mean_reward:250.64 +/- 81.99\n"
     ]
    }
   ],
   "source": [
    "mean_reward, std_reward = evaluate_policy(model, eval_envs_cartpole, n_eval_episodes=50, deterministic=True)\n",
    "\n",
    "print(f\"mean_reward:{mean_reward:.2f} +/- {std_reward:.2f}\")"
   ]
  },
  {
   "cell_type": "markdown",
   "id": "691d3c52-8774-4e2e-a3dc-6b707d80cf2a",
   "metadata": {
    "collapsed": false,
    "id": "iL_G9DurUV75"
   },
   "source": [
    "Hint - Recommended Hyperparameter Range\n",
    "\n",
    "```python\n",
    "gamma = trial.suggest_float(\"gamma\", 0.9, 0.99999, log=True)\n",
    "max_grad_norm = trial.suggest_float(\"max_grad_norm\", 0.3, 5.0, log=True)\n",
    "# from 2**3 = 8 to 2**10 = 1024\n",
    "n_steps = 2 ** trial.suggest_int(\"exponent_n_steps\", 3, 10)\n",
    "learning_rate = trial.suggest_float(\"lr\", 1e-5, 1, log=True)\n",
    "ent_coef = trial.suggest_float(\"ent_coef\", 0.00000001, 0.1, log=True)\n",
    "# net_arch tiny: {\"pi\": [64], \"vf\": [64]}\n",
    "# net_arch default: {\"pi\": [64, 64], \"vf\": [64, 64]}\n",
    "# activation_fn = nn.Tanh / nn.ReLU\n",
    "```"
   ]
  },
  {
   "cell_type": "markdown",
   "id": "fd4d1b3e-5fc8-4512-a9da-c9637b556c80",
   "metadata": {
    "collapsed": false,
    "id": "QwFOp0j-ga-_"
   },
   "source": [
    "# Part III: Automatic Hyperparameter Tuning\n",
    "\n",
    "\n",
    "\n"
   ]
  },
  {
   "cell_type": "markdown",
   "id": "98a7ae28-f751-46ba-ab92-96fc712572f7",
   "metadata": {
    "collapsed": false,
    "id": "88x7wMyyud5p"
   },
   "source": [
    "In this part we will create a script that allows to search for the best hyperparameters automatically."
   ]
  },
  {
   "cell_type": "markdown",
   "id": "7a43ea78-0718-469c-a8f3-44e0dc1227de",
   "metadata": {
    "collapsed": false,
    "id": "auwR-30IvHeY"
   },
   "source": [
    "### Imports"
   ]
  },
  {
   "cell_type": "code",
   "execution_count": 26,
   "id": "f0d9e2b3-f008-4a9d-b304-bf08b8d3a5fb",
   "metadata": {
    "collapsed": false,
    "id": "VM6tUr-yuekR",
    "vscode": {
     "languageId": "python"
    }
   },
   "outputs": [],
   "source": [
    "import optuna\n",
    "from optuna.pruners import MedianPruner\n",
    "from optuna.samplers import TPESampler\n",
    "from optuna.visualization import plot_optimization_history, plot_param_importances"
   ]
  },
  {
   "cell_type": "markdown",
   "id": "248c1bb0-0bff-4e80-9db7-64326fc433fa",
   "metadata": {
    "collapsed": false,
    "id": "ZQVfmM1dzA1d"
   },
   "source": [
    "### Config"
   ]
  },
  {
   "cell_type": "code",
   "execution_count": 27,
   "id": "80041c8e-3441-4312-930d-7125cdbcaad6",
   "metadata": {
    "collapsed": false,
    "id": "yyBTVcAGzCRk",
    "vscode": {
     "languageId": "python"
    }
   },
   "outputs": [],
   "source": [
    "N_TRIALS = 100  # Maximum number of trials\n",
    "N_JOBS = 1 # Number of jobs to run in parallel\n",
    "N_STARTUP_TRIALS = 5  # Stop random sampling after N_STARTUP_TRIALS\n",
    "N_EVALUATIONS = 2  # Number of evaluations during the training\n",
    "N_TIMESTEPS = int(2e4)  # Training budget\n",
    "EVAL_FREQ = int(N_TIMESTEPS / N_EVALUATIONS)\n",
    "N_EVAL_ENVS = 5\n",
    "N_EVAL_EPISODES = 10\n",
    "TIMEOUT = int(60 * 15)  # 15 minutes\n",
    "\n",
    "ENV_ID = \"CartPole-v1\"\n",
    "\n",
    "DEFAULT_HYPERPARAMS = {\n",
    "    \"policy\": \"MlpPolicy\",\n",
    "    \"env\": ENV_ID,\n",
    "}"
   ]
  },
  {
   "cell_type": "markdown",
   "id": "30984ac3-f71d-495a-b971-c7100a58da77",
   "metadata": {
    "collapsed": false,
    "id": "25HgcDYzvJ0b"
   },
   "source": [
    "### Exercise (5 minutes): Define the search space"
   ]
  },
  {
   "cell_type": "code",
   "execution_count": null,
   "id": "135fbe38-b3cc-467c-bdea-1fa2656f70a3",
   "metadata": {
    "collapsed": false,
    "id": "KXo8AwGAvN8Q",
    "vscode": {
     "languageId": "python"
    }
   },
   "outputs": [],
   "source": [
    "from typing import Any, Dict\n",
    "import torch\n",
    "import torch.nn as nn\n",
    "\n",
    "def sample_a2c_params(trial: optuna.Trial) -> Dict[str, Any]:\n",
    "    \"\"\"\n",
    "    Sampler for A2C hyperparameters.\n",
    "\n",
    "    :param trial: Optuna trial object\n",
    "    :return: The sampled hyperparameters for the given trial.\n",
    "    \"\"\"\n",
    "    # Discount factor between 0.9 and 0.9999\n",
    "    gamma = 1.0 - trial.suggest_float(\"gamma\", 0.0001, 0.1, log=True)\n",
    "    max_grad_norm = trial.suggest_float(\"max_grad_norm\", 0.3, 5.0, log=True)\n",
    "    # 8, 16, 32, ... 1024\n",
    "    n_steps = 2 ** trial.suggest_int(\"exponent_n_steps\", 3, 10)\n",
    "\n",
    "    ### YOUR CODE HERE\n",
    "    # TODO:\n",
    "    # - define the learning rate search space [1e-5, 1] (log) -> `suggest_float`\n",
    "    # - define the network architecture search space [\"tiny\", \"small\"] -> `suggest_categorical`\n",
    "    # - define the activation function search space [\"tanh\", \"relu\"]\n",
    "    learning_rate = suggest_float(\"lr\", 1e-5, 1, log=True)\n",
    "    net_arch = suggest_categorical(\"search\", [\"tiny\", \"small\"])\n",
    "    activation_fn = \n",
    "\n",
    "    ### END OF YOUR CODE\n",
    "\n",
    "    # Display true values\n",
    "    trial.set_user_attr(\"gamma_\", gamma)\n",
    "    trial.set_user_attr(\"n_steps\", n_steps)\n",
    "\n",
    "    net_arch = [\n",
    "        {\"pi\": [64], \"vf\": [64]}\n",
    "        if net_arch == \"tiny\"\n",
    "        else {\"pi\": [64, 64], \"vf\": [64, 64]}\n",
    "    ]\n",
    "\n",
    "    activation_fn = {\"tanh\": nn.Tanh, \"relu\": nn.ReLU}[activation_fn]\n",
    "\n",
    "    return {\n",
    "        \"n_steps\": n_steps,\n",
    "        \"gamma\": gamma,\n",
    "        \"learning_rate\": learning_rate,\n",
    "        \"max_grad_norm\": max_grad_norm,\n",
    "        \"policy_kwargs\": {\n",
    "            \"net_arch\": net_arch,\n",
    "            \"activation_fn\": activation_fn,\n",
    "        },\n",
    "    }"
   ]
  },
  {
   "cell_type": "markdown",
   "id": "71c68e16-e2ec-4685-917b-5d6da4cc701a",
   "metadata": {
    "collapsed": false,
    "id": "iybymNiJxNu7"
   },
   "source": [
    "### Define the objective function"
   ]
  },
  {
   "cell_type": "markdown",
   "id": "8fc6ea3b-e7b0-480a-ae6f-379883a2ecbb",
   "metadata": {
    "collapsed": false,
    "id": "YJY8Z8tuxai7"
   },
   "source": [
    "First we define a custom callback to report the results of periodic evaluations to Optuna:"
   ]
  },
  {
   "cell_type": "code",
   "execution_count": null,
   "id": "9875f999-9a80-4e60-b8ac-ec20ce87ba58",
   "metadata": {
    "collapsed": false,
    "id": "U5ijWTPzxSmd",
    "vscode": {
     "languageId": "python"
    }
   },
   "outputs": [],
   "source": [
    "from stable_baselines3.common.callbacks import EvalCallback\n",
    "\n",
    "class TrialEvalCallback(EvalCallback):\n",
    "    \"\"\"\n",
    "    Callback used for evaluating and reporting a trial.\n",
    "\n",
    "    :param eval_env: Evaluation environement\n",
    "    :param trial: Optuna trial object\n",
    "    :param n_eval_episodes: Number of evaluation episodes\n",
    "    :param eval_freq:   Evaluate the agent every ``eval_freq`` call of the callback.\n",
    "    :param deterministic: Whether the evaluation should\n",
    "        use a stochastic or deterministic policy.\n",
    "    :param verbose:\n",
    "    \"\"\"\n",
    "\n",
    "    def __init__(\n",
    "        self,\n",
    "        eval_env: gym.Env,\n",
    "        trial: optuna.Trial,\n",
    "        n_eval_episodes: int = 5,\n",
    "        eval_freq: int = 10000,\n",
    "        deterministic: bool = True,\n",
    "        verbose: int = 0,\n",
    "    ):\n",
    "\n",
    "        super().__init__(\n",
    "            eval_env=eval_env,\n",
    "            n_eval_episodes=n_eval_episodes,\n",
    "            eval_freq=eval_freq,\n",
    "            deterministic=deterministic,\n",
    "            verbose=verbose,\n",
    "        )\n",
    "        self.trial = trial\n",
    "        self.eval_idx = 0\n",
    "        self.is_pruned = False\n",
    "\n",
    "    def _on_step(self) -> bool:\n",
    "        if self.eval_freq > 0 and self.n_calls % self.eval_freq == 0:\n",
    "            # Evaluate policy (done in the parent class)\n",
    "            super()._on_step()\n",
    "            self.eval_idx += 1\n",
    "            # Send report to Optuna\n",
    "            self.trial.report(self.last_mean_reward, self.eval_idx)\n",
    "            # Prune trial if need\n",
    "            if self.trial.should_prune():\n",
    "                self.is_pruned = True\n",
    "                return False\n",
    "        return True"
   ]
  },
  {
   "cell_type": "markdown",
   "id": "342dae72-322a-4cd5-8a1f-eaf885b40973",
   "metadata": {
    "collapsed": false,
    "id": "8cHNM_cFO3vs"
   },
   "source": [
    "### Exercise (10 minutes): Define the objective function"
   ]
  },
  {
   "cell_type": "markdown",
   "id": "2eea85be-b76d-4abc-b411-dafb1e812c88",
   "metadata": {
    "collapsed": false,
    "id": "76voi9AXxlCq"
   },
   "source": [
    "Then we define the objective function that is in charge of sampling hyperparameters, creating the model and then returning the result to Optuna"
   ]
  },
  {
   "cell_type": "code",
   "execution_count": null,
   "id": "bda5ae52-8d2d-45af-9e84-f0a372c97a1e",
   "metadata": {
    "collapsed": false,
    "id": "E0yEokTDxhrC",
    "vscode": {
     "languageId": "python"
    }
   },
   "outputs": [],
   "source": [
    "def objective(trial: optuna.Trial) -> float:\n",
    "    \"\"\"\n",
    "    Objective function using by Optuna to evaluate\n",
    "    one configuration (i.e., one set of hyperparameters).\n",
    "\n",
    "    Given a trial object, it will sample hyperparameters,\n",
    "    evaluate it and report the result (mean episodic reward after training)\n",
    "\n",
    "    :param trial: Optuna trial object\n",
    "    :return: Mean episodic reward after training\n",
    "    \"\"\"\n",
    "\n",
    "    kwargs = DEFAULT_HYPERPARAMS.copy()\n",
    "    ### YOUR CODE HERE\n",
    "    # TODO:\n",
    "    # 1. Sample hyperparameters and update the default keyword arguments: `kwargs.update(other_params)`\n",
    "    # 2. Create the evaluation envs\n",
    "    # 3. Create the `TrialEvalCallback`\n",
    "\n",
    "    # 1. Sample hyperparameters and update the keyword arguments\n",
    "\n",
    "    # Create the RL model\n",
    "    model = A2C(**kwargs)\n",
    "\n",
    "    # 2. Create envs used for evaluation using `make_vec_env`, `ENV_ID` and `N_EVAL_ENVS`\n",
    "\n",
    "    # 3. Create the `TrialEvalCallback` callback defined above that will periodically evaluate\n",
    "    # and report the performance using `N_EVAL_EPISODES` every `EVAL_FREQ`\n",
    "    # TrialEvalCallback signature:\n",
    "    # TrialEvalCallback(eval_env, trial, n_eval_episodes, eval_freq, deterministic, verbose)\n",
    "    eval_callback = ...\n",
    "\n",
    "    ### END OF YOUR CODE\n",
    "\n",
    "    nan_encountered = False\n",
    "    try:\n",
    "        # Train the model\n",
    "        model.learn(N_TIMESTEPS, callback=eval_callback)\n",
    "    except AssertionError as e:\n",
    "        # Sometimes, random hyperparams can generate NaN\n",
    "        print(e)\n",
    "        nan_encountered = True\n",
    "    finally:\n",
    "        # Free memory\n",
    "        model.env.close()\n",
    "        eval_envs.close()\n",
    "\n",
    "    # Tell the optimizer that the trial failed\n",
    "    if nan_encountered:\n",
    "        return float(\"nan\")\n",
    "\n",
    "    if eval_callback.is_pruned:\n",
    "        raise optuna.exceptions.TrialPruned()\n",
    "\n",
    "    return eval_callback.last_mean_reward"
   ]
  },
  {
   "cell_type": "markdown",
   "id": "99de8e2d-9348-4035-b712-f175804403c9",
   "metadata": {
    "collapsed": false,
    "id": "jMFLu_M0ymzj"
   },
   "source": [
    "### The optimization loop"
   ]
  },
  {
   "cell_type": "code",
   "execution_count": null,
   "id": "315fb406-1617-4805-b899-b141e1afe47d",
   "metadata": {
    "collapsed": false,
    "id": "4UU17YpjymPr",
    "vscode": {
     "languageId": "python"
    }
   },
   "outputs": [],
   "source": [
    "import torch as th\n",
    "\n",
    "# Set pytorch num threads to 1 for faster training\n",
    "th.set_num_threads(1)\n",
    "# Select the sampler, can be random, TPESampler, CMAES, ...\n",
    "sampler = TPESampler(n_startup_trials=N_STARTUP_TRIALS)\n",
    "# Do not prune before 1/3 of the max budget is used\n",
    "pruner = MedianPruner(\n",
    "    n_startup_trials=N_STARTUP_TRIALS, n_warmup_steps=N_EVALUATIONS // 3\n",
    ")\n",
    "# Create the study and start the hyperparameter optimization\n",
    "study = optuna.create_study(sampler=sampler, pruner=pruner, direction=\"maximize\")\n",
    "\n",
    "try:\n",
    "    study.optimize(objective, n_trials=N_TRIALS, n_jobs=N_JOBS, timeout=TIMEOUT)\n",
    "except KeyboardInterrupt:\n",
    "    pass\n",
    "\n",
    "print(\"Number of finished trials: \", len(study.trials))\n",
    "\n",
    "print(\"Best trial:\")\n",
    "trial = study.best_trial\n",
    "\n",
    "print(f\"  Value: {trial.value}\")\n",
    "\n",
    "print(\"  Params: \")\n",
    "for key, value in trial.params.items():\n",
    "    print(f\"    {key}: {value}\")\n",
    "\n",
    "print(\"  User attrs:\")\n",
    "for key, value in trial.user_attrs.items():\n",
    "    print(f\"    {key}: {value}\")\n",
    "\n",
    "# Write report\n",
    "study.trials_dataframe().to_csv(\"study_results_a2c_cartpole.csv\")\n",
    "\n",
    "fig1 = plot_optimization_history(study)\n",
    "fig2 = plot_param_importances(study)\n",
    "\n",
    "fig1.show()\n",
    "fig2.show()"
   ]
  },
  {
   "cell_type": "markdown",
   "id": "a4744e05-53a6-4aa0-aa44-452bb1d0e099",
   "metadata": {
    "collapsed": false,
    "id": "SCbep6z1h3D1"
   },
   "source": [
    "Complete example: https://github.com/DLR-RM/rl-baselines3-zoo"
   ]
  },
  {
   "cell_type": "markdown",
   "id": "4da11e3f-f5be-40f2-b818-1cd23922c53a",
   "metadata": {
    "collapsed": false,
    "id": "7yUeYnfJVpB2"
   },
   "source": [
    "# Conclusion\n",
    "\n",
    "What we have seen in this notebook:\n",
    "- the importance of good hyperparameters\n",
    "- how to do automatic hyperparameter search with optuna\n"
   ]
  },
  {
   "cell_type": "code",
   "execution_count": null,
   "id": "1c375eb7-2fbf-4be1-943a-27686d8d106a",
   "metadata": {
    "collapsed": false,
    "id": "3-gqIPXqV7zZ",
    "vscode": {
     "languageId": "python"
    }
   },
   "outputs": [],
   "source": []
  }
 ],
 "metadata": {
  "colab": {
   "name": "icra22_optuna_lab.ipynb",
   "provenance": []
  },
  "kernelspec": {
   "argv": [
    "python",
    "-m",
    "ipykernel_launcher",
    "-f",
    "{connection_file}"
   ],
   "display_name": "Python 3 (ipykernel)",
   "env": null,
   "interrupt_mode": "signal",
   "language": "python",
   "metadata": {
    "debugger": true
   },
   "name": "python3"
  },
  "name": "icra22_optuna_lab.ipynb"
 },
 "nbformat": 4,
 "nbformat_minor": 0
}
