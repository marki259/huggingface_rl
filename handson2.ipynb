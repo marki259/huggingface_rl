{
 "cells": [
  {
   "cell_type": "code",
   "execution_count": 17,
   "metadata": {},
   "outputs": [],
   "source": [
    "import numpy as np\n",
    "\n",
    "from collections import deque\n",
    "\n",
    "import matplotlib.pyplot as plt\n",
    "%matplotlib inline\n",
    "\n",
    "# PyTorch\n",
    "import torch\n",
    "import torch.nn as nn\n",
    "import torch.nn.functional as F\n",
    "import torch.optim as optim\n",
    "from torch.distributions import Categorical\n",
    "\n",
    "# Gym\n",
    "import gymnasium as gym\n",
    "\n",
    "# Hugging Face Hub\n",
    "from huggingface_hub import notebook_login # To log to our Hugging Face account to be able to upload models to the Hub.\n",
    "import imageio\n",
    "\n",
    "from functions.huggingface_course import record_video"
   ]
  },
  {
   "cell_type": "code",
   "execution_count": 18,
   "metadata": {},
   "outputs": [
    {
     "name": "stdout",
     "output_type": "stream",
     "text": [
      "cuda:0\n"
     ]
    }
   ],
   "source": [
    "device = torch.device(\"cuda:0\" if torch.cuda.is_available() else \"cpu\")\n",
    "print(device)"
   ]
  },
  {
   "cell_type": "code",
   "execution_count": 19,
   "metadata": {},
   "outputs": [],
   "source": [
    "env_id = \"CartPole-v1\"\n",
    "env = gym.make(env_id, render_mode=\"rgb_array\")"
   ]
  },
  {
   "cell_type": "code",
   "execution_count": null,
   "metadata": {},
   "outputs": [],
   "source": []
  },
  {
   "cell_type": "code",
   "execution_count": 72,
   "metadata": {},
   "outputs": [],
   "source": [
    "state, _ = env.reset()\n",
    "img = torch.from_numpy(env.render())"
   ]
  },
  {
   "cell_type": "code",
   "execution_count": 73,
   "metadata": {},
   "outputs": [],
   "source": [
    "def get_compressed_render(img: np.ndarray) -> torch.TensorType:\n",
    "    img = img.float().mean(dim=2)\n",
    "    compressed_img = F.interpolate(img.view(1, 1, *img.shape), size=(48, 64), mode='bilinear', align_corners=False)\n",
    "\n",
    "    return compressed_img"
   ]
  },
  {
   "cell_type": "code",
   "execution_count": 75,
   "metadata": {},
   "outputs": [
    {
     "data": {
      "text/plain": [
       "<matplotlib.image.AxesImage at 0x7eff71bbe650>"
      ]
     },
     "execution_count": 75,
     "metadata": {},
     "output_type": "execute_result"
    },
    {
     "data": {
      "image/png": "[encoded data removed]",
      "text/plain": [
       "<Figure size 640x480 with 1 Axes>"
      ]
     },
     "metadata": {},
     "output_type": "display_data"
    }
   ],
   "source": [
    "plt.imshow(get_compressed_render(img).squeeze(), cmap=\"gray\")"
   ]
  },
  {
   "cell_type": "code",
   "execution_count": 4,
   "metadata": {},
   "outputs": [],
   "source": [
    "s_size = env.observation_space.shape[0]\n",
    "a_size = 2"
   ]
  },
  {
   "cell_type": "code",
   "execution_count": 5,
   "metadata": {},
   "outputs": [
    {
     "data": {
      "text/plain": [
       "(4,)"
      ]
     },
     "execution_count": 5,
     "metadata": {},
     "output_type": "execute_result"
    }
   ],
   "source": [
    "env.observation_space.sample().shape"
   ]
  },
  {
   "cell_type": "code",
   "execution_count": 6,
   "metadata": {},
   "outputs": [],
   "source": [
    "class Policy(nn.Module):\n",
    "    def __init__(self, a_size):\n",
    "        super(Policy, self).__init__()\n",
    "        self.conv1 = nn.Conv2d(3, 16, kernel_size=5, stride=1, padding=2)\n",
    "        self.conv2 = nn.Conv2d(16, 32, kernel_size=5, stride=1, padding=2)\n",
    "        self.pool = nn.MaxPool2d(2, 2)\n",
    "        # Calculate the size here\n",
    "        self.fc1 = nn.Linear(66560, 120)\n",
    "        self.fc2 = nn.Linear(120, 84)\n",
    "        self.fc3 = nn.Linear(84, a_size)\n",
    "\n",
    "    def forward(self, x):\n",
    "        x = self.pool(F.relu(self.conv1(x)))\n",
    "        x = self.pool(F.relu(self.conv2(x)))\n",
    "        x = x.flatten()\n",
    "        x = F.relu(self.fc1(x))\n",
    "        x = F.relu(self.fc2(x))\n",
    "        x = self.fc3(x)\n",
    "        x = F.softmax(x, dim=0)\n",
    "        return x\n",
    "\n",
    "    def act(self, state):\n",
    "        \"\"\"\n",
    "        Given a state, take action\n",
    "        \"\"\"\n",
    "        state = state.float().unsqueeze(0).to(device)\n",
    "        probs = self.forward(state)\n",
    "        m = Categorical(probs)\n",
    "        action = m.sample()\n",
    "        return action.item(), m.log_prob(action)"
   ]
  },
  {
   "cell_type": "code",
   "execution_count": 7,
   "metadata": {},
   "outputs": [
    {
     "ename": "RuntimeError",
     "evalue": "permute(sparse_coo): number of dimensions in the tensor input does not match the length of the desired ordering of dimensions i.e. input.dim() = 1 is not equal to len(dims) = 3",
     "output_type": "error",
     "traceback": [
      "\u001b[0;31m---------------------------------------------------------------------------\u001b[0m",
      "\u001b[0;31mRuntimeError\u001b[0m                              Traceback (most recent call last)",
      "\u001b[1;32m/home/marc/Documents/Projects/huggingface_rl/handson2.ipynb Cell 7\u001b[0m line \u001b[0;36m3\n\u001b[1;32m      <a href='vscode-notebook-cell:/home/marc/Documents/Projects/huggingface_rl/handson2.ipynb#X10sZmlsZQ%3D%3D?line=0'>1</a>\u001b[0m policy \u001b[39m=\u001b[39m Policy(a_size)\u001b[39m.\u001b[39mto(device)\n\u001b[0;32m----> <a href='vscode-notebook-cell:/home/marc/Documents/Projects/huggingface_rl/handson2.ipynb#X10sZmlsZQ%3D%3D?line=2'>3</a>\u001b[0m policy\u001b[39m.\u001b[39mact(torch\u001b[39m.\u001b[39;49mtensor(env\u001b[39m.\u001b[39;49mobservation_space\u001b[39m.\u001b[39;49msample())\u001b[39m.\u001b[39;49mpermute(\u001b[39m2\u001b[39;49m, \u001b[39m0\u001b[39;49m, \u001b[39m1\u001b[39;49m))\n",
      "\u001b[0;31mRuntimeError\u001b[0m: permute(sparse_coo): number of dimensions in the tensor input does not match the length of the desired ordering of dimensions i.e. input.dim() = 1 is not equal to len(dims) = 3"
     ]
    }
   ],
   "source": [
    "policy = Policy(a_size).to(device)\n",
    "\n",
    "policy.act(torch.tensor(env.observation_space.sample()).permute(2, 0, 1))"
   ]
  },
  {
   "cell_type": "code",
   "execution_count": 23,
   "metadata": {},
   "outputs": [],
   "source": [
    "def reinforce(policy, optimizer, n_training_episodes, max_t, gamma, print_every):\n",
    "    # Help us to calculate the score during the training\n",
    "    scores_deque = deque(maxlen=100)\n",
    "    scores = []\n",
    "    # Line 3 of pseudocode\n",
    "    for i_episode in range(1, n_training_episodes+1):\n",
    "        saved_log_probs = []\n",
    "        rewards = []\n",
    "        state = env.reset()[0]\n",
    "        # Line 4 of pseudocode\n",
    "        for t in range(max_t):\n",
    "            action, log_prob = policy.act(torch.tensor(state).permute(2, 0, 1))\n",
    "            saved_log_probs.append(log_prob)\n",
    "            state, reward, terminated, truncated, _ = env.step(action)\n",
    "            rewards.append(reward)\n",
    "            if terminated or truncated:\n",
    "                break\n",
    "        scores_deque.append(sum(rewards))\n",
    "        scores.append(sum(rewards))\n",
    "\n",
    "        # Line 6 of pseudocode: calculate the return\n",
    "        returns = deque(maxlen=max_t)\n",
    "        n_steps = len(rewards)\n",
    "        # Compute the discounted returns at each timestep,\n",
    "        # as the sum of the gamma-discounted return at time t (G_t) + the reward at time t\n",
    "\n",
    "        # In O(N) time, where N is the number of time steps\n",
    "        # (this definition of the discounted return G_t follows the definition of this quantity\n",
    "        # shown at page 44 of Sutton&Barto 2017 2nd draft)\n",
    "        # G_t = r_(t+1) + r_(t+2) + ...\n",
    "\n",
    "        # Given this formulation, the returns at each timestep t can be computed\n",
    "        # by re-using the computed future returns G_(t+1) to compute the current return G_t\n",
    "        # G_t = r_(t+1) + gamma*G_(t+1)\n",
    "        # G_(t-1) = r_t + gamma* G_t\n",
    "        # (this follows a dynamic programming approach, with which we memorize solutions in order\n",
    "        # to avoid computing them multiple times)\n",
    "\n",
    "        # This is correct since the above is equivalent to (see also page 46 of Sutton&Barto 2017 2nd draft)\n",
    "        # G_(t-1) = r_t + gamma*r_(t+1) + gamma*gamma*r_(t+2) + ...\n",
    "\n",
    "\n",
    "        ## Given the above, we calculate the returns at timestep t as:\n",
    "        #               gamma[t] * return[t] + reward[t]\n",
    "        #\n",
    "        ## We compute this starting from the last timestep to the first, in order\n",
    "        ## to employ the formula presented above and avoid redundant computations that would be needed\n",
    "        ## if we were to do it from first to last.\n",
    "\n",
    "        ## Hence, the queue \"returns\" will hold the returns in chronological order, from t=0 to t=n_steps\n",
    "        ## thanks to the appendleft() function which allows to append to the position 0 in constant time O(1)\n",
    "        ## a normal python list would instead require O(N) to do this.\n",
    "        for t in range(n_steps)[::-1]:\n",
    "            disc_return_t = (returns[0] if len(returns)>0 else 0)\n",
    "            returns.appendleft(rewards[t] + gamma * disc_return_t) # TODO: complete here\n",
    "\n",
    "        ## standardization of the returns is employed to make training more stable\n",
    "        eps = np.finfo(np.float32).eps.item()\n",
    "\n",
    "        ## eps is the smallest representable float, which is\n",
    "        # added to the standard deviation of the returns to avoid numerical instabilities\n",
    "        returns = torch.tensor(returns)\n",
    "        returns = (returns - returns.mean()) / (returns.std() + eps)\n",
    "\n",
    "        # Line 7:\n",
    "        policy_loss = []\n",
    "        for log_prob, disc_return in zip(saved_log_probs, returns):\n",
    "            policy_loss.append(-log_prob * disc_return)\n",
    "\n",
    "        print(policy_loss)\n",
    "        policy_loss = torch.cat(policy_loss).sum()\n",
    "\n",
    "        # Line 8: PyTorch prefers gradient descent\n",
    "        optimizer.zero_grad()\n",
    "        policy_loss.backward()\n",
    "        optimizer.step()\n",
    "\n",
    "        if i_episode % print_every == 0:\n",
    "            print('Episode {}\\tAverage Score: {:.2f}'.format(i_episode, np.mean(scores_deque)))\n",
    "\n",
    "    return scores"
   ]
  },
  {
   "cell_type": "code",
   "execution_count": 24,
   "metadata": {},
   "outputs": [],
   "source": [
    "cartpole_hyperparameters = {\n",
    "    \"h_size\": 128,\n",
    "    \"n_training_episodes\": 1000,\n",
    "    \"n_evaluation_episodes\": 10,\n",
    "    \"max_t\": 1000,\n",
    "    \"gamma\": 0.97,\n",
    "    \"lr\": 1e-3,\n",
    "    \"env_id\": env_id,\n",
    "    \"state_space\": s_size,\n",
    "    \"action_space\": a_size,\n",
    "}"
   ]
  },
  {
   "cell_type": "code",
   "execution_count": 25,
   "metadata": {},
   "outputs": [],
   "source": [
    "# Create policy and place it to the device\n",
    "cartpole_policy = Policy(\n",
    "    cartpole_hyperparameters[\"action_space\"],\n",
    ").to(device)\n",
    "cartpole_optimizer = optim.Adam(cartpole_policy.parameters(), lr=cartpole_hyperparameters[\"lr\"])"
   ]
  },
  {
   "cell_type": "code",
   "execution_count": 26,
   "metadata": {},
   "outputs": [
    {
     "name": "stdout",
     "output_type": "stream",
     "text": [
      "[tensor(0., device='cuda:0', grad_fn=<MulBackward0>), tensor(0., device='cuda:0', grad_fn=<MulBackward0>), tensor(0., device='cuda:0', grad_fn=<MulBackward0>), tensor(0., device='cuda:0', grad_fn=<MulBackward0>), tensor(0., device='cuda:0', grad_fn=<MulBackward0>), tensor(0., device='cuda:0', grad_fn=<MulBackward0>), tensor(0., device='cuda:0', grad_fn=<MulBackward0>), tensor(0., device='cuda:0', grad_fn=<MulBackward0>), tensor(0., device='cuda:0', grad_fn=<MulBackward0>), tensor(0., device='cuda:0', grad_fn=<MulBackward0>), tensor(0., device='cuda:0', grad_fn=<MulBackward0>), tensor(0., device='cuda:0', grad_fn=<MulBackward0>), tensor(0., device='cuda:0', grad_fn=<MulBackward0>), tensor(0., device='cuda:0', grad_fn=<MulBackward0>), tensor(0., device='cuda:0', grad_fn=<MulBackward0>), tensor(0., device='cuda:0', grad_fn=<MulBackward0>), tensor(0., device='cuda:0', grad_fn=<MulBackward0>), tensor(0., device='cuda:0', grad_fn=<MulBackward0>), tensor(0., device='cuda:0', grad_fn=<MulBackward0>), tensor(0., device='cuda:0', grad_fn=<MulBackward0>), tensor(0., device='cuda:0', grad_fn=<MulBackward0>), tensor(0., device='cuda:0', grad_fn=<MulBackward0>), tensor(0., device='cuda:0', grad_fn=<MulBackward0>), tensor(0., device='cuda:0', grad_fn=<MulBackward0>), tensor(0., device='cuda:0', grad_fn=<MulBackward0>), tensor(0., device='cuda:0', grad_fn=<MulBackward0>), tensor(0., device='cuda:0', grad_fn=<MulBackward0>), tensor(0., device='cuda:0', grad_fn=<MulBackward0>), tensor(0., device='cuda:0', grad_fn=<MulBackward0>), tensor(0., device='cuda:0', grad_fn=<MulBackward0>), tensor(0., device='cuda:0', grad_fn=<MulBackward0>), tensor(0., device='cuda:0', grad_fn=<MulBackward0>), tensor(0., device='cuda:0', grad_fn=<MulBackward0>), tensor(0., device='cuda:0', grad_fn=<MulBackward0>), tensor(0., device='cuda:0', grad_fn=<MulBackward0>), tensor(0., device='cuda:0', grad_fn=<MulBackward0>), tensor(0., device='cuda:0', grad_fn=<MulBackward0>), tensor(0., device='cuda:0', grad_fn=<MulBackward0>), tensor(0., device='cuda:0', grad_fn=<MulBackward0>), tensor(0., device='cuda:0', grad_fn=<MulBackward0>), tensor(0., device='cuda:0', grad_fn=<MulBackward0>), tensor(0., device='cuda:0', grad_fn=<MulBackward0>), tensor(0., device='cuda:0', grad_fn=<MulBackward0>), tensor(0., device='cuda:0', grad_fn=<MulBackward0>), tensor(0., device='cuda:0', grad_fn=<MulBackward0>), tensor(0., device='cuda:0', grad_fn=<MulBackward0>), tensor(0., device='cuda:0', grad_fn=<MulBackward0>), tensor(0., device='cuda:0', grad_fn=<MulBackward0>), tensor(0., device='cuda:0', grad_fn=<MulBackward0>), tensor(0., device='cuda:0', grad_fn=<MulBackward0>), tensor(0., device='cuda:0', grad_fn=<MulBackward0>), tensor(0., device='cuda:0', grad_fn=<MulBackward0>), tensor(0., device='cuda:0', grad_fn=<MulBackward0>), tensor(0., device='cuda:0', grad_fn=<MulBackward0>), tensor(0., device='cuda:0', grad_fn=<MulBackward0>), tensor(0., device='cuda:0', grad_fn=<MulBackward0>), tensor(0., device='cuda:0', grad_fn=<MulBackward0>), tensor(0., device='cuda:0', grad_fn=<MulBackward0>), tensor(0., device='cuda:0', grad_fn=<MulBackward0>), tensor(0., device='cuda:0', grad_fn=<MulBackward0>), tensor(0., device='cuda:0', grad_fn=<MulBackward0>), tensor(0., device='cuda:0', grad_fn=<MulBackward0>), tensor(0., device='cuda:0', grad_fn=<MulBackward0>), tensor(0., device='cuda:0', grad_fn=<MulBackward0>), tensor(0., device='cuda:0', grad_fn=<MulBackward0>), tensor(0., device='cuda:0', grad_fn=<MulBackward0>), tensor(0., device='cuda:0', grad_fn=<MulBackward0>), tensor(0., device='cuda:0', grad_fn=<MulBackward0>), tensor(0., device='cuda:0', grad_fn=<MulBackward0>), tensor(0., device='cuda:0', grad_fn=<MulBackward0>), tensor(0., device='cuda:0', grad_fn=<MulBackward0>), tensor(0., device='cuda:0', grad_fn=<MulBackward0>), tensor(0., device='cuda:0', grad_fn=<MulBackward0>), tensor(0., device='cuda:0', grad_fn=<MulBackward0>), tensor(0., device='cuda:0', grad_fn=<MulBackward0>), tensor(0., device='cuda:0', grad_fn=<MulBackward0>), tensor(0., device='cuda:0', grad_fn=<MulBackward0>), tensor(0., device='cuda:0', grad_fn=<MulBackward0>), tensor(0., device='cuda:0', grad_fn=<MulBackward0>), tensor(0., device='cuda:0', grad_fn=<MulBackward0>), tensor(0., device='cuda:0', grad_fn=<MulBackward0>), tensor(0., device='cuda:0', grad_fn=<MulBackward0>), tensor(0., device='cuda:0', grad_fn=<MulBackward0>), tensor(0., device='cuda:0', grad_fn=<MulBackward0>), tensor(0., device='cuda:0', grad_fn=<MulBackward0>), tensor(0., device='cuda:0', grad_fn=<MulBackward0>), tensor(0., device='cuda:0', grad_fn=<MulBackward0>), tensor(0., device='cuda:0', grad_fn=<MulBackward0>), tensor(0., device='cuda:0', grad_fn=<MulBackward0>), tensor(0., device='cuda:0', grad_fn=<MulBackward0>), tensor(0., device='cuda:0', grad_fn=<MulBackward0>), tensor(0., device='cuda:0', grad_fn=<MulBackward0>), tensor(0., device='cuda:0', grad_fn=<MulBackward0>), tensor(0., device='cuda:0', grad_fn=<MulBackward0>), tensor(0., device='cuda:0', grad_fn=<MulBackward0>), tensor(0., device='cuda:0', grad_fn=<MulBackward0>), tensor(0., device='cuda:0', grad_fn=<MulBackward0>), tensor(0., device='cuda:0', grad_fn=<MulBackward0>), tensor(0., device='cuda:0', grad_fn=<MulBackward0>), tensor(0., device='cuda:0', grad_fn=<MulBackward0>), tensor(0., device='cuda:0', grad_fn=<MulBackward0>), tensor(0., device='cuda:0', grad_fn=<MulBackward0>), tensor(0., device='cuda:0', grad_fn=<MulBackward0>), tensor(0., device='cuda:0', grad_fn=<MulBackward0>), tensor(0., device='cuda:0', grad_fn=<MulBackward0>), tensor(0., device='cuda:0', grad_fn=<MulBackward0>), tensor(0., device='cuda:0', grad_fn=<MulBackward0>), tensor(0., device='cuda:0', grad_fn=<MulBackward0>), tensor(0., device='cuda:0', grad_fn=<MulBackward0>), tensor(0., device='cuda:0', grad_fn=<MulBackward0>), tensor(0., device='cuda:0', grad_fn=<MulBackward0>), tensor(0., device='cuda:0', grad_fn=<MulBackward0>), tensor(0., device='cuda:0', grad_fn=<MulBackward0>), tensor(0., device='cuda:0', grad_fn=<MulBackward0>), tensor(0., device='cuda:0', grad_fn=<MulBackward0>), tensor(0., device='cuda:0', grad_fn=<MulBackward0>), tensor(0., device='cuda:0', grad_fn=<MulBackward0>), tensor(0., device='cuda:0', grad_fn=<MulBackward0>), tensor(0., device='cuda:0', grad_fn=<MulBackward0>), tensor(0., device='cuda:0', grad_fn=<MulBackward0>), tensor(0., device='cuda:0', grad_fn=<MulBackward0>), tensor(0., device='cuda:0', grad_fn=<MulBackward0>), tensor(0., device='cuda:0', grad_fn=<MulBackward0>), tensor(0., device='cuda:0', grad_fn=<MulBackward0>), tensor(0., device='cuda:0', grad_fn=<MulBackward0>), tensor(0., device='cuda:0', grad_fn=<MulBackward0>), tensor(0., device='cuda:0', grad_fn=<MulBackward0>), tensor(0., device='cuda:0', grad_fn=<MulBackward0>), tensor(0., device='cuda:0', grad_fn=<MulBackward0>), tensor(0., device='cuda:0', grad_fn=<MulBackward0>), tensor(0., device='cuda:0', grad_fn=<MulBackward0>), tensor(0., device='cuda:0', grad_fn=<MulBackward0>), tensor(0., device='cuda:0', grad_fn=<MulBackward0>), tensor(0., device='cuda:0', grad_fn=<MulBackward0>), tensor(0., device='cuda:0', grad_fn=<MulBackward0>), tensor(0., device='cuda:0', grad_fn=<MulBackward0>), tensor(0., device='cuda:0', grad_fn=<MulBackward0>), tensor(0., device='cuda:0', grad_fn=<MulBackward0>), tensor(0., device='cuda:0', grad_fn=<MulBackward0>), tensor(0., device='cuda:0', grad_fn=<MulBackward0>), tensor(0., device='cuda:0', grad_fn=<MulBackward0>), tensor(0., device='cuda:0', grad_fn=<MulBackward0>), tensor(0., device='cuda:0', grad_fn=<MulBackward0>), tensor(0., device='cuda:0', grad_fn=<MulBackward0>), tensor(0., device='cuda:0', grad_fn=<MulBackward0>), tensor(0., device='cuda:0', grad_fn=<MulBackward0>), tensor(0., device='cuda:0', grad_fn=<MulBackward0>), tensor(0., device='cuda:0', grad_fn=<MulBackward0>), tensor(0., device='cuda:0', grad_fn=<MulBackward0>), tensor(0., device='cuda:0', grad_fn=<MulBackward0>), tensor(0., device='cuda:0', grad_fn=<MulBackward0>), tensor(0., device='cuda:0', grad_fn=<MulBackward0>), tensor(0., device='cuda:0', grad_fn=<MulBackward0>), tensor(0., device='cuda:0', grad_fn=<MulBackward0>), tensor(0., device='cuda:0', grad_fn=<MulBackward0>), tensor(0., device='cuda:0', grad_fn=<MulBackward0>), tensor(0., device='cuda:0', grad_fn=<MulBackward0>), tensor(0., device='cuda:0', grad_fn=<MulBackward0>), tensor(0., device='cuda:0', grad_fn=<MulBackward0>), tensor(0., device='cuda:0', grad_fn=<MulBackward0>), tensor(0., device='cuda:0', grad_fn=<MulBackward0>)]\n"
     ]
    },
    {
     "ename": "RuntimeError",
     "evalue": "zero-dimensional tensor (at position 0) cannot be concatenated",
     "output_type": "error",
     "traceback": [
      "\u001b[0;31m---------------------------------------------------------------------------\u001b[0m",
      "\u001b[0;31mRuntimeError\u001b[0m                              Traceback (most recent call last)",
      "\u001b[1;32m/home/marc/Documents/Projects/huggingface_rl/handson2.ipynb Cell 11\u001b[0m line \u001b[0;36m1\n\u001b[0;32m----> <a href='vscode-notebook-cell:/home/marc/Documents/Projects/huggingface_rl/handson2.ipynb#X14sZmlsZQ%3D%3D?line=0'>1</a>\u001b[0m scores \u001b[39m=\u001b[39m reinforce(\n\u001b[1;32m      <a href='vscode-notebook-cell:/home/marc/Documents/Projects/huggingface_rl/handson2.ipynb#X14sZmlsZQ%3D%3D?line=1'>2</a>\u001b[0m     cartpole_policy,\n\u001b[1;32m      <a href='vscode-notebook-cell:/home/marc/Documents/Projects/huggingface_rl/handson2.ipynb#X14sZmlsZQ%3D%3D?line=2'>3</a>\u001b[0m     cartpole_optimizer,\n\u001b[1;32m      <a href='vscode-notebook-cell:/home/marc/Documents/Projects/huggingface_rl/handson2.ipynb#X14sZmlsZQ%3D%3D?line=3'>4</a>\u001b[0m     cartpole_hyperparameters[\u001b[39m\"\u001b[39;49m\u001b[39mn_training_episodes\u001b[39;49m\u001b[39m\"\u001b[39;49m],\n\u001b[1;32m      <a href='vscode-notebook-cell:/home/marc/Documents/Projects/huggingface_rl/handson2.ipynb#X14sZmlsZQ%3D%3D?line=4'>5</a>\u001b[0m     cartpole_hyperparameters[\u001b[39m\"\u001b[39;49m\u001b[39mmax_t\u001b[39;49m\u001b[39m\"\u001b[39;49m],\n\u001b[1;32m      <a href='vscode-notebook-cell:/home/marc/Documents/Projects/huggingface_rl/handson2.ipynb#X14sZmlsZQ%3D%3D?line=5'>6</a>\u001b[0m     cartpole_hyperparameters[\u001b[39m\"\u001b[39;49m\u001b[39mgamma\u001b[39;49m\u001b[39m\"\u001b[39;49m],\n\u001b[1;32m      <a href='vscode-notebook-cell:/home/marc/Documents/Projects/huggingface_rl/handson2.ipynb#X14sZmlsZQ%3D%3D?line=6'>7</a>\u001b[0m     \u001b[39m100\u001b[39;49m,\n\u001b[1;32m      <a href='vscode-notebook-cell:/home/marc/Documents/Projects/huggingface_rl/handson2.ipynb#X14sZmlsZQ%3D%3D?line=7'>8</a>\u001b[0m )\n",
      "\u001b[1;32m/home/marc/Documents/Projects/huggingface_rl/handson2.ipynb Cell 11\u001b[0m line \u001b[0;36m7\n\u001b[1;32m     <a href='vscode-notebook-cell:/home/marc/Documents/Projects/huggingface_rl/handson2.ipynb#X14sZmlsZQ%3D%3D?line=67'>68</a>\u001b[0m     policy_loss\u001b[39m.\u001b[39mappend(\u001b[39m-\u001b[39mlog_prob \u001b[39m*\u001b[39m disc_return)\n\u001b[1;32m     <a href='vscode-notebook-cell:/home/marc/Documents/Projects/huggingface_rl/handson2.ipynb#X14sZmlsZQ%3D%3D?line=69'>70</a>\u001b[0m \u001b[39mprint\u001b[39m(policy_loss)\n\u001b[0;32m---> <a href='vscode-notebook-cell:/home/marc/Documents/Projects/huggingface_rl/handson2.ipynb#X14sZmlsZQ%3D%3D?line=70'>71</a>\u001b[0m policy_loss \u001b[39m=\u001b[39m torch\u001b[39m.\u001b[39;49mcat(policy_loss)\u001b[39m.\u001b[39msum()\n\u001b[1;32m     <a href='vscode-notebook-cell:/home/marc/Documents/Projects/huggingface_rl/handson2.ipynb#X14sZmlsZQ%3D%3D?line=72'>73</a>\u001b[0m \u001b[39m# Line 8: PyTorch prefers gradient descent\u001b[39;00m\n\u001b[1;32m     <a href='vscode-notebook-cell:/home/marc/Documents/Projects/huggingface_rl/handson2.ipynb#X14sZmlsZQ%3D%3D?line=73'>74</a>\u001b[0m optimizer\u001b[39m.\u001b[39mzero_grad()\n",
      "\u001b[0;31mRuntimeError\u001b[0m: zero-dimensional tensor (at position 0) cannot be concatenated"
     ]
    }
   ],
   "source": [
    "scores = reinforce(\n",
    "    cartpole_policy,\n",
    "    cartpole_optimizer,\n",
    "    cartpole_hyperparameters[\"n_training_episodes\"],\n",
    "    cartpole_hyperparameters[\"max_t\"],\n",
    "    cartpole_hyperparameters[\"gamma\"],\n",
    "    100,\n",
    ")"
   ]
  },
  {
   "cell_type": "code",
   "execution_count": 102,
   "metadata": {},
   "outputs": [],
   "source": [
    "def record_video(env, policy, out_directory, fps=30):\n",
    "    \"\"\"\n",
    "    Generate a replay video of the agent\n",
    "    :param env\n",
    "    :param Qtable: Qtable of our agent\n",
    "    :param out_directory\n",
    "    :param fps: how many frame per seconds (with taxi-v3 and frozenlake-v1 we use 1)\n",
    "    \"\"\"\n",
    "    images = []\n",
    "    state = env.reset()[0]\n",
    "    img = env.render()\n",
    "    images.append(img)\n",
    "    terminated = False \n",
    "\n",
    "    while not terminated:\n",
    "        # Take the action (index) that have the maximum expected future reward given that state\n",
    "        action, _ = policy.act(state)\n",
    "        state, reward, terminated, truncated, _ = env.step(action)  # We directly put next_state = state for recording logic\n",
    "        img = env.render()\n",
    "        images.append(img)\n",
    "    imageio.mimsave(out_directory, [np.array(img) for i, img in enumerate(images)], fps=fps)"
   ]
  },
  {
   "cell_type": "code",
   "execution_count": 103,
   "metadata": {},
   "outputs": [],
   "source": [
    "record_video(env, cartpole_policy, \"./data/cartpole_v0.mp4\")"
   ]
  },
  {
   "cell_type": "code",
   "execution_count": null,
   "metadata": {},
   "outputs": [],
   "source": []
  }
 ],
 "metadata": {
  "kernelspec": {
   "display_name": "huggingface-rl",
   "language": "python",
   "name": "python3"
  },
  "language_info": {
   "codemirror_mode": {
    "name": "ipython",
    "version": 3
   },
   "file_extension": ".py",
   "mimetype": "text/x-python",
   "name": "python",
   "nbconvert_exporter": "python",
   "pygments_lexer": "ipython3",
   "version": "3.11.6"
  }
 },
 "nbformat": 4,
 "nbformat_minor": 2
}
